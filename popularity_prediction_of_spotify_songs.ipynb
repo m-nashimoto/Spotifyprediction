{
 "cells": [
  {
   "cell_type": "code",
   "execution_count": 32,
   "metadata": {
    "id": "NU11ch8yBfNs"
   },
   "outputs": [],
   "source": [
    "#import libaries\n",
    "import numpy as np\n",
    "import pandas as pd\n",
    "import seaborn as sns\n",
    "import matplotlib.pyplot as plt\n",
    "from imblearn.over_sampling import RandomOverSampler\n",
    "from imblearn.under_sampling import RandomUnderSampler"
   ]
  },
  {
   "cell_type": "code",
   "execution_count": 33,
   "metadata": {
    "id": "ifQD-nYaCbUJ"
   },
   "outputs": [],
   "source": [
    "df=pd.read_csv('spotify_data.csv')"
   ]
  },
  {
   "cell_type": "markdown",
   "metadata": {
    "id": "_jpXds3QXQ23"
   },
   "source": [
    "## Data Exploration"
   ]
  },
  {
   "cell_type": "code",
   "execution_count": 34,
   "metadata": {
    "colab": {
     "base_uri": "https://localhost:8080/",
     "height": 330
    },
    "id": "gXCOQn4yDVy6",
    "outputId": "a97a8d14-0504-483a-e198-2bb48c923561"
   },
   "outputs": [
    {
     "data": {
      "text/html": [
       "<div>\n",
       "<style scoped>\n",
       "    .dataframe tbody tr th:only-of-type {\n",
       "        vertical-align: middle;\n",
       "    }\n",
       "\n",
       "    .dataframe tbody tr th {\n",
       "        vertical-align: top;\n",
       "    }\n",
       "\n",
       "    .dataframe thead th {\n",
       "        text-align: right;\n",
       "    }\n",
       "</style>\n",
       "<table border=\"1\" class=\"dataframe\">\n",
       "  <thead>\n",
       "    <tr style=\"text-align: right;\">\n",
       "      <th></th>\n",
       "      <th>Unnamed: 0</th>\n",
       "      <th>artist_name</th>\n",
       "      <th>track_name</th>\n",
       "      <th>track_id</th>\n",
       "      <th>popularity</th>\n",
       "      <th>year</th>\n",
       "      <th>genre</th>\n",
       "      <th>danceability</th>\n",
       "      <th>energy</th>\n",
       "      <th>key</th>\n",
       "      <th>loudness</th>\n",
       "      <th>mode</th>\n",
       "      <th>speechiness</th>\n",
       "      <th>acousticness</th>\n",
       "      <th>instrumentalness</th>\n",
       "      <th>liveness</th>\n",
       "      <th>valence</th>\n",
       "      <th>tempo</th>\n",
       "      <th>duration_ms</th>\n",
       "      <th>time_signature</th>\n",
       "    </tr>\n",
       "  </thead>\n",
       "  <tbody>\n",
       "    <tr>\n",
       "      <th>0</th>\n",
       "      <td>0</td>\n",
       "      <td>Jason Mraz</td>\n",
       "      <td>I Won't Give Up</td>\n",
       "      <td>53QF56cjZA9RTuuMZDrSA6</td>\n",
       "      <td>68</td>\n",
       "      <td>2012</td>\n",
       "      <td>acoustic</td>\n",
       "      <td>0.483</td>\n",
       "      <td>0.303</td>\n",
       "      <td>4</td>\n",
       "      <td>-10.058</td>\n",
       "      <td>1</td>\n",
       "      <td>0.0429</td>\n",
       "      <td>0.6940</td>\n",
       "      <td>0.000000</td>\n",
       "      <td>0.1150</td>\n",
       "      <td>0.139</td>\n",
       "      <td>133.406</td>\n",
       "      <td>240166</td>\n",
       "      <td>3</td>\n",
       "    </tr>\n",
       "    <tr>\n",
       "      <th>1</th>\n",
       "      <td>1</td>\n",
       "      <td>Jason Mraz</td>\n",
       "      <td>93 Million Miles</td>\n",
       "      <td>1s8tP3jP4GZcyHDsjvw218</td>\n",
       "      <td>50</td>\n",
       "      <td>2012</td>\n",
       "      <td>acoustic</td>\n",
       "      <td>0.572</td>\n",
       "      <td>0.454</td>\n",
       "      <td>3</td>\n",
       "      <td>-10.286</td>\n",
       "      <td>1</td>\n",
       "      <td>0.0258</td>\n",
       "      <td>0.4770</td>\n",
       "      <td>0.000014</td>\n",
       "      <td>0.0974</td>\n",
       "      <td>0.515</td>\n",
       "      <td>140.182</td>\n",
       "      <td>216387</td>\n",
       "      <td>4</td>\n",
       "    </tr>\n",
       "    <tr>\n",
       "      <th>2</th>\n",
       "      <td>2</td>\n",
       "      <td>Joshua Hyslop</td>\n",
       "      <td>Do Not Let Me Go</td>\n",
       "      <td>7BRCa8MPiyuvr2VU3O9W0F</td>\n",
       "      <td>57</td>\n",
       "      <td>2012</td>\n",
       "      <td>acoustic</td>\n",
       "      <td>0.409</td>\n",
       "      <td>0.234</td>\n",
       "      <td>3</td>\n",
       "      <td>-13.711</td>\n",
       "      <td>1</td>\n",
       "      <td>0.0323</td>\n",
       "      <td>0.3380</td>\n",
       "      <td>0.000050</td>\n",
       "      <td>0.0895</td>\n",
       "      <td>0.145</td>\n",
       "      <td>139.832</td>\n",
       "      <td>158960</td>\n",
       "      <td>4</td>\n",
       "    </tr>\n",
       "    <tr>\n",
       "      <th>3</th>\n",
       "      <td>3</td>\n",
       "      <td>Boyce Avenue</td>\n",
       "      <td>Fast Car</td>\n",
       "      <td>63wsZUhUZLlh1OsyrZq7sz</td>\n",
       "      <td>58</td>\n",
       "      <td>2012</td>\n",
       "      <td>acoustic</td>\n",
       "      <td>0.392</td>\n",
       "      <td>0.251</td>\n",
       "      <td>10</td>\n",
       "      <td>-9.845</td>\n",
       "      <td>1</td>\n",
       "      <td>0.0363</td>\n",
       "      <td>0.8070</td>\n",
       "      <td>0.000000</td>\n",
       "      <td>0.0797</td>\n",
       "      <td>0.508</td>\n",
       "      <td>204.961</td>\n",
       "      <td>304293</td>\n",
       "      <td>4</td>\n",
       "    </tr>\n",
       "    <tr>\n",
       "      <th>4</th>\n",
       "      <td>4</td>\n",
       "      <td>Andrew Belle</td>\n",
       "      <td>Sky's Still Blue</td>\n",
       "      <td>6nXIYClvJAfi6ujLiKqEq8</td>\n",
       "      <td>54</td>\n",
       "      <td>2012</td>\n",
       "      <td>acoustic</td>\n",
       "      <td>0.430</td>\n",
       "      <td>0.791</td>\n",
       "      <td>6</td>\n",
       "      <td>-5.419</td>\n",
       "      <td>0</td>\n",
       "      <td>0.0302</td>\n",
       "      <td>0.0726</td>\n",
       "      <td>0.019300</td>\n",
       "      <td>0.1100</td>\n",
       "      <td>0.217</td>\n",
       "      <td>171.864</td>\n",
       "      <td>244320</td>\n",
       "      <td>4</td>\n",
       "    </tr>\n",
       "  </tbody>\n",
       "</table>\n",
       "</div>"
      ],
      "text/plain": [
       "   Unnamed: 0    artist_name        track_name                track_id  \\\n",
       "0           0     Jason Mraz   I Won't Give Up  53QF56cjZA9RTuuMZDrSA6   \n",
       "1           1     Jason Mraz  93 Million Miles  1s8tP3jP4GZcyHDsjvw218   \n",
       "2           2  Joshua Hyslop  Do Not Let Me Go  7BRCa8MPiyuvr2VU3O9W0F   \n",
       "3           3   Boyce Avenue          Fast Car  63wsZUhUZLlh1OsyrZq7sz   \n",
       "4           4   Andrew Belle  Sky's Still Blue  6nXIYClvJAfi6ujLiKqEq8   \n",
       "\n",
       "   popularity  year     genre  danceability  energy  key  loudness  mode  \\\n",
       "0          68  2012  acoustic         0.483   0.303    4   -10.058     1   \n",
       "1          50  2012  acoustic         0.572   0.454    3   -10.286     1   \n",
       "2          57  2012  acoustic         0.409   0.234    3   -13.711     1   \n",
       "3          58  2012  acoustic         0.392   0.251   10    -9.845     1   \n",
       "4          54  2012  acoustic         0.430   0.791    6    -5.419     0   \n",
       "\n",
       "   speechiness  acousticness  instrumentalness  liveness  valence    tempo  \\\n",
       "0       0.0429        0.6940          0.000000    0.1150    0.139  133.406   \n",
       "1       0.0258        0.4770          0.000014    0.0974    0.515  140.182   \n",
       "2       0.0323        0.3380          0.000050    0.0895    0.145  139.832   \n",
       "3       0.0363        0.8070          0.000000    0.0797    0.508  204.961   \n",
       "4       0.0302        0.0726          0.019300    0.1100    0.217  171.864   \n",
       "\n",
       "   duration_ms  time_signature  \n",
       "0       240166               3  \n",
       "1       216387               4  \n",
       "2       158960               4  \n",
       "3       304293               4  \n",
       "4       244320               4  "
      ]
     },
     "execution_count": 34,
     "metadata": {},
     "output_type": "execute_result"
    }
   ],
   "source": [
    "df.head()"
   ]
  },
  {
   "cell_type": "markdown",
   "metadata": {
    "id": "Zj1YvRl7zpA3"
   },
   "source": [
    "**Shape of Dataset**"
   ]
  },
  {
   "cell_type": "code",
   "execution_count": 35,
   "metadata": {
    "colab": {
     "base_uri": "https://localhost:8080/"
    },
    "id": "IPNMUHSyzcc7",
    "outputId": "91767227-bb18-47ad-963b-e1928ca802db"
   },
   "outputs": [
    {
     "name": "stdout",
     "output_type": "stream",
     "text": [
      "Number of Rows in Dataset before dropping 1159764\n",
      "Number of columns in dataset   20\n"
     ]
    }
   ],
   "source": [
    "df.shape\n",
    "print('Number of Rows in Dataset before dropping',df.shape[0])\n",
    "print('Number of columns in dataset  ',df.shape[1])"
   ]
  },
  {
   "cell_type": "code",
   "execution_count": 36,
   "metadata": {
    "colab": {
     "base_uri": "https://localhost:8080/"
    },
    "id": "4u8XpUYuXenb",
    "outputId": "17cc35a3-8839-4c2b-be60-d39abe62af52"
   },
   "outputs": [
    {
     "name": "stdout",
     "output_type": "stream",
     "text": [
      "<class 'pandas.core.frame.DataFrame'>\n",
      "RangeIndex: 1159764 entries, 0 to 1159763\n",
      "Data columns (total 20 columns):\n",
      " #   Column            Non-Null Count    Dtype  \n",
      "---  ------            --------------    -----  \n",
      " 0   Unnamed: 0        1159764 non-null  int64  \n",
      " 1   artist_name       1159764 non-null  object \n",
      " 2   track_name        1159764 non-null  object \n",
      " 3   track_id          1159764 non-null  object \n",
      " 4   popularity        1159764 non-null  int64  \n",
      " 5   year              1159764 non-null  int64  \n",
      " 6   genre             1159764 non-null  object \n",
      " 7   danceability      1159764 non-null  float64\n",
      " 8   energy            1159764 non-null  float64\n",
      " 9   key               1159764 non-null  int64  \n",
      " 10  loudness          1159764 non-null  float64\n",
      " 11  mode              1159764 non-null  int64  \n",
      " 12  speechiness       1159764 non-null  float64\n",
      " 13  acousticness      1159764 non-null  float64\n",
      " 14  instrumentalness  1159764 non-null  float64\n",
      " 15  liveness          1159764 non-null  float64\n",
      " 16  valence           1159764 non-null  float64\n",
      " 17  tempo             1159764 non-null  float64\n",
      " 18  duration_ms       1159764 non-null  int64  \n",
      " 19  time_signature    1159764 non-null  int64  \n",
      "dtypes: float64(9), int64(7), object(4)\n",
      "memory usage: 177.0+ MB\n"
     ]
    }
   ],
   "source": [
    "df.info()"
   ]
  },
  {
   "cell_type": "code",
   "execution_count": 37,
   "metadata": {
    "colab": {
     "base_uri": "https://localhost:8080/",
     "height": 320
    },
    "id": "zduZqDVJXg-6",
    "outputId": "02352c54-b8bc-4e39-b2c1-7075fbefcab1"
   },
   "outputs": [
    {
     "data": {
      "text/html": [
       "<div>\n",
       "<style scoped>\n",
       "    .dataframe tbody tr th:only-of-type {\n",
       "        vertical-align: middle;\n",
       "    }\n",
       "\n",
       "    .dataframe tbody tr th {\n",
       "        vertical-align: top;\n",
       "    }\n",
       "\n",
       "    .dataframe thead th {\n",
       "        text-align: right;\n",
       "    }\n",
       "</style>\n",
       "<table border=\"1\" class=\"dataframe\">\n",
       "  <thead>\n",
       "    <tr style=\"text-align: right;\">\n",
       "      <th></th>\n",
       "      <th>Unnamed: 0</th>\n",
       "      <th>popularity</th>\n",
       "      <th>year</th>\n",
       "      <th>danceability</th>\n",
       "      <th>energy</th>\n",
       "      <th>key</th>\n",
       "      <th>loudness</th>\n",
       "      <th>mode</th>\n",
       "      <th>speechiness</th>\n",
       "      <th>acousticness</th>\n",
       "      <th>instrumentalness</th>\n",
       "      <th>liveness</th>\n",
       "      <th>valence</th>\n",
       "      <th>tempo</th>\n",
       "      <th>duration_ms</th>\n",
       "      <th>time_signature</th>\n",
       "    </tr>\n",
       "  </thead>\n",
       "  <tbody>\n",
       "    <tr>\n",
       "      <th>count</th>\n",
       "      <td>1.159764e+06</td>\n",
       "      <td>1.159764e+06</td>\n",
       "      <td>1.159764e+06</td>\n",
       "      <td>1.159764e+06</td>\n",
       "      <td>1.159764e+06</td>\n",
       "      <td>1.159764e+06</td>\n",
       "      <td>1.159764e+06</td>\n",
       "      <td>1.159764e+06</td>\n",
       "      <td>1.159764e+06</td>\n",
       "      <td>1.159764e+06</td>\n",
       "      <td>1.159764e+06</td>\n",
       "      <td>1.159764e+06</td>\n",
       "      <td>1.159764e+06</td>\n",
       "      <td>1.159764e+06</td>\n",
       "      <td>1.159764e+06</td>\n",
       "      <td>1.159764e+06</td>\n",
       "    </tr>\n",
       "    <tr>\n",
       "      <th>mean</th>\n",
       "      <td>6.590613e+05</td>\n",
       "      <td>1.838312e+01</td>\n",
       "      <td>2.011955e+03</td>\n",
       "      <td>5.374382e-01</td>\n",
       "      <td>6.396699e-01</td>\n",
       "      <td>5.287778e+00</td>\n",
       "      <td>-8.981353e+00</td>\n",
       "      <td>6.346533e-01</td>\n",
       "      <td>9.281477e-02</td>\n",
       "      <td>3.215370e-01</td>\n",
       "      <td>2.523489e-01</td>\n",
       "      <td>2.230189e-01</td>\n",
       "      <td>4.555636e-01</td>\n",
       "      <td>1.213771e+02</td>\n",
       "      <td>2.495618e+05</td>\n",
       "      <td>3.885879e+00</td>\n",
       "    </tr>\n",
       "    <tr>\n",
       "      <th>std</th>\n",
       "      <td>4.285492e+05</td>\n",
       "      <td>1.588554e+01</td>\n",
       "      <td>6.803901e+00</td>\n",
       "      <td>1.844780e-01</td>\n",
       "      <td>2.705009e-01</td>\n",
       "      <td>3.555197e+00</td>\n",
       "      <td>5.682215e+00</td>\n",
       "      <td>4.815275e-01</td>\n",
       "      <td>1.268409e-01</td>\n",
       "      <td>3.549872e-01</td>\n",
       "      <td>3.650731e-01</td>\n",
       "      <td>2.010707e-01</td>\n",
       "      <td>2.685190e-01</td>\n",
       "      <td>2.977975e+01</td>\n",
       "      <td>1.494262e+05</td>\n",
       "      <td>4.676967e-01</td>\n",
       "    </tr>\n",
       "    <tr>\n",
       "      <th>min</th>\n",
       "      <td>0.000000e+00</td>\n",
       "      <td>0.000000e+00</td>\n",
       "      <td>2.000000e+03</td>\n",
       "      <td>0.000000e+00</td>\n",
       "      <td>0.000000e+00</td>\n",
       "      <td>0.000000e+00</td>\n",
       "      <td>-5.810000e+01</td>\n",
       "      <td>0.000000e+00</td>\n",
       "      <td>0.000000e+00</td>\n",
       "      <td>0.000000e+00</td>\n",
       "      <td>0.000000e+00</td>\n",
       "      <td>0.000000e+00</td>\n",
       "      <td>0.000000e+00</td>\n",
       "      <td>0.000000e+00</td>\n",
       "      <td>2.073000e+03</td>\n",
       "      <td>0.000000e+00</td>\n",
       "    </tr>\n",
       "    <tr>\n",
       "      <th>25%</th>\n",
       "      <td>2.899408e+05</td>\n",
       "      <td>5.000000e+00</td>\n",
       "      <td>2.006000e+03</td>\n",
       "      <td>4.130000e-01</td>\n",
       "      <td>4.540000e-01</td>\n",
       "      <td>2.000000e+00</td>\n",
       "      <td>-1.082900e+01</td>\n",
       "      <td>0.000000e+00</td>\n",
       "      <td>3.710000e-02</td>\n",
       "      <td>6.400000e-03</td>\n",
       "      <td>1.050000e-06</td>\n",
       "      <td>9.790000e-02</td>\n",
       "      <td>2.260000e-01</td>\n",
       "      <td>9.879700e+01</td>\n",
       "      <td>1.810910e+05</td>\n",
       "      <td>4.000000e+00</td>\n",
       "    </tr>\n",
       "    <tr>\n",
       "      <th>50%</th>\n",
       "      <td>5.798815e+05</td>\n",
       "      <td>1.500000e+01</td>\n",
       "      <td>2.012000e+03</td>\n",
       "      <td>5.500000e-01</td>\n",
       "      <td>6.940000e-01</td>\n",
       "      <td>5.000000e+00</td>\n",
       "      <td>-7.450000e+00</td>\n",
       "      <td>1.000000e+00</td>\n",
       "      <td>5.070000e-02</td>\n",
       "      <td>1.470000e-01</td>\n",
       "      <td>1.760000e-03</td>\n",
       "      <td>1.340000e-01</td>\n",
       "      <td>4.380000e-01</td>\n",
       "      <td>1.219310e+02</td>\n",
       "      <td>2.257440e+05</td>\n",
       "      <td>4.000000e+00</td>\n",
       "    </tr>\n",
       "    <tr>\n",
       "      <th>75%</th>\n",
       "      <td>1.031689e+06</td>\n",
       "      <td>2.900000e+01</td>\n",
       "      <td>2.018000e+03</td>\n",
       "      <td>6.770000e-01</td>\n",
       "      <td>8.730000e-01</td>\n",
       "      <td>8.000000e+00</td>\n",
       "      <td>-5.276000e+00</td>\n",
       "      <td>1.000000e+00</td>\n",
       "      <td>8.900000e-02</td>\n",
       "      <td>6.400000e-01</td>\n",
       "      <td>6.140000e-01</td>\n",
       "      <td>2.920000e-01</td>\n",
       "      <td>6.740000e-01</td>\n",
       "      <td>1.399030e+02</td>\n",
       "      <td>2.869135e+05</td>\n",
       "      <td>4.000000e+00</td>\n",
       "    </tr>\n",
       "    <tr>\n",
       "      <th>max</th>\n",
       "      <td>1.473395e+06</td>\n",
       "      <td>1.000000e+02</td>\n",
       "      <td>2.023000e+03</td>\n",
       "      <td>9.930000e-01</td>\n",
       "      <td>1.000000e+00</td>\n",
       "      <td>1.100000e+01</td>\n",
       "      <td>6.172000e+00</td>\n",
       "      <td>1.000000e+00</td>\n",
       "      <td>9.710000e-01</td>\n",
       "      <td>9.960000e-01</td>\n",
       "      <td>1.000000e+00</td>\n",
       "      <td>1.000000e+00</td>\n",
       "      <td>1.000000e+00</td>\n",
       "      <td>2.499930e+02</td>\n",
       "      <td>6.000495e+06</td>\n",
       "      <td>5.000000e+00</td>\n",
       "    </tr>\n",
       "  </tbody>\n",
       "</table>\n",
       "</div>"
      ],
      "text/plain": [
       "         Unnamed: 0    popularity          year  danceability        energy  \\\n",
       "count  1.159764e+06  1.159764e+06  1.159764e+06  1.159764e+06  1.159764e+06   \n",
       "mean   6.590613e+05  1.838312e+01  2.011955e+03  5.374382e-01  6.396699e-01   \n",
       "std    4.285492e+05  1.588554e+01  6.803901e+00  1.844780e-01  2.705009e-01   \n",
       "min    0.000000e+00  0.000000e+00  2.000000e+03  0.000000e+00  0.000000e+00   \n",
       "25%    2.899408e+05  5.000000e+00  2.006000e+03  4.130000e-01  4.540000e-01   \n",
       "50%    5.798815e+05  1.500000e+01  2.012000e+03  5.500000e-01  6.940000e-01   \n",
       "75%    1.031689e+06  2.900000e+01  2.018000e+03  6.770000e-01  8.730000e-01   \n",
       "max    1.473395e+06  1.000000e+02  2.023000e+03  9.930000e-01  1.000000e+00   \n",
       "\n",
       "                key      loudness          mode   speechiness  acousticness  \\\n",
       "count  1.159764e+06  1.159764e+06  1.159764e+06  1.159764e+06  1.159764e+06   \n",
       "mean   5.287778e+00 -8.981353e+00  6.346533e-01  9.281477e-02  3.215370e-01   \n",
       "std    3.555197e+00  5.682215e+00  4.815275e-01  1.268409e-01  3.549872e-01   \n",
       "min    0.000000e+00 -5.810000e+01  0.000000e+00  0.000000e+00  0.000000e+00   \n",
       "25%    2.000000e+00 -1.082900e+01  0.000000e+00  3.710000e-02  6.400000e-03   \n",
       "50%    5.000000e+00 -7.450000e+00  1.000000e+00  5.070000e-02  1.470000e-01   \n",
       "75%    8.000000e+00 -5.276000e+00  1.000000e+00  8.900000e-02  6.400000e-01   \n",
       "max    1.100000e+01  6.172000e+00  1.000000e+00  9.710000e-01  9.960000e-01   \n",
       "\n",
       "       instrumentalness      liveness       valence         tempo  \\\n",
       "count      1.159764e+06  1.159764e+06  1.159764e+06  1.159764e+06   \n",
       "mean       2.523489e-01  2.230189e-01  4.555636e-01  1.213771e+02   \n",
       "std        3.650731e-01  2.010707e-01  2.685190e-01  2.977975e+01   \n",
       "min        0.000000e+00  0.000000e+00  0.000000e+00  0.000000e+00   \n",
       "25%        1.050000e-06  9.790000e-02  2.260000e-01  9.879700e+01   \n",
       "50%        1.760000e-03  1.340000e-01  4.380000e-01  1.219310e+02   \n",
       "75%        6.140000e-01  2.920000e-01  6.740000e-01  1.399030e+02   \n",
       "max        1.000000e+00  1.000000e+00  1.000000e+00  2.499930e+02   \n",
       "\n",
       "        duration_ms  time_signature  \n",
       "count  1.159764e+06    1.159764e+06  \n",
       "mean   2.495618e+05    3.885879e+00  \n",
       "std    1.494262e+05    4.676967e-01  \n",
       "min    2.073000e+03    0.000000e+00  \n",
       "25%    1.810910e+05    4.000000e+00  \n",
       "50%    2.257440e+05    4.000000e+00  \n",
       "75%    2.869135e+05    4.000000e+00  \n",
       "max    6.000495e+06    5.000000e+00  "
      ]
     },
     "execution_count": 37,
     "metadata": {},
     "output_type": "execute_result"
    }
   ],
   "source": [
    "df.describe()"
   ]
  },
  {
   "cell_type": "markdown",
   "metadata": {
    "id": "Hd3hzgQqXdzh"
   },
   "source": []
  },
  {
   "cell_type": "markdown",
   "metadata": {
    "id": "2IBnKODrmNst"
   },
   "source": [
    "###**Data Cleaning**"
   ]
  },
  {
   "cell_type": "markdown",
   "metadata": {
    "id": "F4rMLFsXw1G5"
   },
   "source": [
    "**Dropping a unnesscary column from the dataset**"
   ]
  },
  {
   "cell_type": "code",
   "execution_count": 38,
   "metadata": {
    "colab": {
     "base_uri": "https://localhost:8080/",
     "height": 330
    },
    "id": "4WFzGPB4xKQp",
    "outputId": "7ad8f5ab-0728-47a5-ba76-ac30e23d7946"
   },
   "outputs": [
    {
     "data": {
      "text/html": [
       "<div>\n",
       "<style scoped>\n",
       "    .dataframe tbody tr th:only-of-type {\n",
       "        vertical-align: middle;\n",
       "    }\n",
       "\n",
       "    .dataframe tbody tr th {\n",
       "        vertical-align: top;\n",
       "    }\n",
       "\n",
       "    .dataframe thead th {\n",
       "        text-align: right;\n",
       "    }\n",
       "</style>\n",
       "<table border=\"1\" class=\"dataframe\">\n",
       "  <thead>\n",
       "    <tr style=\"text-align: right;\">\n",
       "      <th></th>\n",
       "      <th>Unnamed: 0</th>\n",
       "      <th>artist_name</th>\n",
       "      <th>track_name</th>\n",
       "      <th>track_id</th>\n",
       "      <th>popularity</th>\n",
       "      <th>year</th>\n",
       "      <th>genre</th>\n",
       "      <th>danceability</th>\n",
       "      <th>energy</th>\n",
       "      <th>key</th>\n",
       "      <th>loudness</th>\n",
       "      <th>mode</th>\n",
       "      <th>speechiness</th>\n",
       "      <th>acousticness</th>\n",
       "      <th>instrumentalness</th>\n",
       "      <th>liveness</th>\n",
       "      <th>valence</th>\n",
       "      <th>tempo</th>\n",
       "      <th>duration_ms</th>\n",
       "      <th>time_signature</th>\n",
       "    </tr>\n",
       "  </thead>\n",
       "  <tbody>\n",
       "    <tr>\n",
       "      <th>0</th>\n",
       "      <td>0</td>\n",
       "      <td>Jason Mraz</td>\n",
       "      <td>I Won't Give Up</td>\n",
       "      <td>53QF56cjZA9RTuuMZDrSA6</td>\n",
       "      <td>68</td>\n",
       "      <td>2012</td>\n",
       "      <td>acoustic</td>\n",
       "      <td>0.483</td>\n",
       "      <td>0.303</td>\n",
       "      <td>4</td>\n",
       "      <td>-10.058</td>\n",
       "      <td>1</td>\n",
       "      <td>0.0429</td>\n",
       "      <td>0.6940</td>\n",
       "      <td>0.000000</td>\n",
       "      <td>0.1150</td>\n",
       "      <td>0.139</td>\n",
       "      <td>133.406</td>\n",
       "      <td>240166</td>\n",
       "      <td>3</td>\n",
       "    </tr>\n",
       "    <tr>\n",
       "      <th>1</th>\n",
       "      <td>1</td>\n",
       "      <td>Jason Mraz</td>\n",
       "      <td>93 Million Miles</td>\n",
       "      <td>1s8tP3jP4GZcyHDsjvw218</td>\n",
       "      <td>50</td>\n",
       "      <td>2012</td>\n",
       "      <td>acoustic</td>\n",
       "      <td>0.572</td>\n",
       "      <td>0.454</td>\n",
       "      <td>3</td>\n",
       "      <td>-10.286</td>\n",
       "      <td>1</td>\n",
       "      <td>0.0258</td>\n",
       "      <td>0.4770</td>\n",
       "      <td>0.000014</td>\n",
       "      <td>0.0974</td>\n",
       "      <td>0.515</td>\n",
       "      <td>140.182</td>\n",
       "      <td>216387</td>\n",
       "      <td>4</td>\n",
       "    </tr>\n",
       "    <tr>\n",
       "      <th>2</th>\n",
       "      <td>2</td>\n",
       "      <td>Joshua Hyslop</td>\n",
       "      <td>Do Not Let Me Go</td>\n",
       "      <td>7BRCa8MPiyuvr2VU3O9W0F</td>\n",
       "      <td>57</td>\n",
       "      <td>2012</td>\n",
       "      <td>acoustic</td>\n",
       "      <td>0.409</td>\n",
       "      <td>0.234</td>\n",
       "      <td>3</td>\n",
       "      <td>-13.711</td>\n",
       "      <td>1</td>\n",
       "      <td>0.0323</td>\n",
       "      <td>0.3380</td>\n",
       "      <td>0.000050</td>\n",
       "      <td>0.0895</td>\n",
       "      <td>0.145</td>\n",
       "      <td>139.832</td>\n",
       "      <td>158960</td>\n",
       "      <td>4</td>\n",
       "    </tr>\n",
       "    <tr>\n",
       "      <th>3</th>\n",
       "      <td>3</td>\n",
       "      <td>Boyce Avenue</td>\n",
       "      <td>Fast Car</td>\n",
       "      <td>63wsZUhUZLlh1OsyrZq7sz</td>\n",
       "      <td>58</td>\n",
       "      <td>2012</td>\n",
       "      <td>acoustic</td>\n",
       "      <td>0.392</td>\n",
       "      <td>0.251</td>\n",
       "      <td>10</td>\n",
       "      <td>-9.845</td>\n",
       "      <td>1</td>\n",
       "      <td>0.0363</td>\n",
       "      <td>0.8070</td>\n",
       "      <td>0.000000</td>\n",
       "      <td>0.0797</td>\n",
       "      <td>0.508</td>\n",
       "      <td>204.961</td>\n",
       "      <td>304293</td>\n",
       "      <td>4</td>\n",
       "    </tr>\n",
       "    <tr>\n",
       "      <th>4</th>\n",
       "      <td>4</td>\n",
       "      <td>Andrew Belle</td>\n",
       "      <td>Sky's Still Blue</td>\n",
       "      <td>6nXIYClvJAfi6ujLiKqEq8</td>\n",
       "      <td>54</td>\n",
       "      <td>2012</td>\n",
       "      <td>acoustic</td>\n",
       "      <td>0.430</td>\n",
       "      <td>0.791</td>\n",
       "      <td>6</td>\n",
       "      <td>-5.419</td>\n",
       "      <td>0</td>\n",
       "      <td>0.0302</td>\n",
       "      <td>0.0726</td>\n",
       "      <td>0.019300</td>\n",
       "      <td>0.1100</td>\n",
       "      <td>0.217</td>\n",
       "      <td>171.864</td>\n",
       "      <td>244320</td>\n",
       "      <td>4</td>\n",
       "    </tr>\n",
       "  </tbody>\n",
       "</table>\n",
       "</div>"
      ],
      "text/plain": [
       "   Unnamed: 0    artist_name        track_name                track_id  \\\n",
       "0           0     Jason Mraz   I Won't Give Up  53QF56cjZA9RTuuMZDrSA6   \n",
       "1           1     Jason Mraz  93 Million Miles  1s8tP3jP4GZcyHDsjvw218   \n",
       "2           2  Joshua Hyslop  Do Not Let Me Go  7BRCa8MPiyuvr2VU3O9W0F   \n",
       "3           3   Boyce Avenue          Fast Car  63wsZUhUZLlh1OsyrZq7sz   \n",
       "4           4   Andrew Belle  Sky's Still Blue  6nXIYClvJAfi6ujLiKqEq8   \n",
       "\n",
       "   popularity  year     genre  danceability  energy  key  loudness  mode  \\\n",
       "0          68  2012  acoustic         0.483   0.303    4   -10.058     1   \n",
       "1          50  2012  acoustic         0.572   0.454    3   -10.286     1   \n",
       "2          57  2012  acoustic         0.409   0.234    3   -13.711     1   \n",
       "3          58  2012  acoustic         0.392   0.251   10    -9.845     1   \n",
       "4          54  2012  acoustic         0.430   0.791    6    -5.419     0   \n",
       "\n",
       "   speechiness  acousticness  instrumentalness  liveness  valence    tempo  \\\n",
       "0       0.0429        0.6940          0.000000    0.1150    0.139  133.406   \n",
       "1       0.0258        0.4770          0.000014    0.0974    0.515  140.182   \n",
       "2       0.0323        0.3380          0.000050    0.0895    0.145  139.832   \n",
       "3       0.0363        0.8070          0.000000    0.0797    0.508  204.961   \n",
       "4       0.0302        0.0726          0.019300    0.1100    0.217  171.864   \n",
       "\n",
       "   duration_ms  time_signature  \n",
       "0       240166               3  \n",
       "1       216387               4  \n",
       "2       158960               4  \n",
       "3       304293               4  \n",
       "4       244320               4  "
      ]
     },
     "execution_count": 38,
     "metadata": {},
     "output_type": "execute_result"
    }
   ],
   "source": [
    "#after dropping the col the dataset\n",
    "df.head()"
   ]
  },
  {
   "cell_type": "code",
   "execution_count": 39,
   "metadata": {
    "colab": {
     "base_uri": "https://localhost:8080/"
    },
    "id": "TNSX1owSrYLf",
    "outputId": "fb5b04cb-4832-4eb0-fb8b-356299e6825d"
   },
   "outputs": [
    {
     "name": "stdout",
     "output_type": "stream",
     "text": [
      "         duration_ms  duration_minutes\n",
      "0             240166          4.002767\n",
      "1             216387          3.606450\n",
      "2             158960          2.649333\n",
      "3             304293          5.071550\n",
      "4             244320          4.072000\n",
      "...              ...               ...\n",
      "1159759       344013          5.733550\n",
      "1159760       285067          4.751117\n",
      "1159761       214253          3.570883\n",
      "1159762       239133          3.985550\n",
      "1159763       212227          3.537117\n",
      "\n",
      "[1159764 rows x 2 columns]\n"
     ]
    }
   ],
   "source": [
    "# Convert the 'duration_ms' column from milliseconds to minutes\n",
    "df['duration_minutes'] = df['duration_ms'] / 60000\n",
    "\n",
    "# Drop the original 'duration_ms' column if needed\n",
    "# df.drop('duration_ms', axis=1, inplace=True)\n",
    "\n",
    "# Display the DataFrame with the 'duration_minutes' column\n",
    "print(df[['duration_ms', 'duration_minutes']])\n"
   ]
  },
  {
   "cell_type": "code",
   "execution_count": 40,
   "metadata": {
    "id": "zc-TWPdsw0s5"
   },
   "outputs": [],
   "source": [
    "# unnamed is an un-necessary column so drop it\n",
    "df.drop([\"Unnamed: 0\",'track_name','track_id','duration_ms'], axis=1 , inplace= True )"
   ]
  },
  {
   "cell_type": "code",
   "execution_count": 41,
   "metadata": {
    "colab": {
     "base_uri": "https://localhost:8080/",
     "height": 261
    },
    "id": "tErS1guHrrX7",
    "outputId": "c931c1f5-ccd3-4fe0-c7e1-03fa701543bf"
   },
   "outputs": [
    {
     "data": {
      "text/html": [
       "<div>\n",
       "<style scoped>\n",
       "    .dataframe tbody tr th:only-of-type {\n",
       "        vertical-align: middle;\n",
       "    }\n",
       "\n",
       "    .dataframe tbody tr th {\n",
       "        vertical-align: top;\n",
       "    }\n",
       "\n",
       "    .dataframe thead th {\n",
       "        text-align: right;\n",
       "    }\n",
       "</style>\n",
       "<table border=\"1\" class=\"dataframe\">\n",
       "  <thead>\n",
       "    <tr style=\"text-align: right;\">\n",
       "      <th></th>\n",
       "      <th>artist_name</th>\n",
       "      <th>popularity</th>\n",
       "      <th>year</th>\n",
       "      <th>genre</th>\n",
       "      <th>danceability</th>\n",
       "      <th>energy</th>\n",
       "      <th>key</th>\n",
       "      <th>loudness</th>\n",
       "      <th>mode</th>\n",
       "      <th>speechiness</th>\n",
       "      <th>acousticness</th>\n",
       "      <th>instrumentalness</th>\n",
       "      <th>liveness</th>\n",
       "      <th>valence</th>\n",
       "      <th>tempo</th>\n",
       "      <th>time_signature</th>\n",
       "      <th>duration_minutes</th>\n",
       "    </tr>\n",
       "  </thead>\n",
       "  <tbody>\n",
       "    <tr>\n",
       "      <th>0</th>\n",
       "      <td>Jason Mraz</td>\n",
       "      <td>68</td>\n",
       "      <td>2012</td>\n",
       "      <td>acoustic</td>\n",
       "      <td>0.483</td>\n",
       "      <td>0.303</td>\n",
       "      <td>4</td>\n",
       "      <td>-10.058</td>\n",
       "      <td>1</td>\n",
       "      <td>0.0429</td>\n",
       "      <td>0.6940</td>\n",
       "      <td>0.000000</td>\n",
       "      <td>0.1150</td>\n",
       "      <td>0.139</td>\n",
       "      <td>133.406</td>\n",
       "      <td>3</td>\n",
       "      <td>4.002767</td>\n",
       "    </tr>\n",
       "    <tr>\n",
       "      <th>1</th>\n",
       "      <td>Jason Mraz</td>\n",
       "      <td>50</td>\n",
       "      <td>2012</td>\n",
       "      <td>acoustic</td>\n",
       "      <td>0.572</td>\n",
       "      <td>0.454</td>\n",
       "      <td>3</td>\n",
       "      <td>-10.286</td>\n",
       "      <td>1</td>\n",
       "      <td>0.0258</td>\n",
       "      <td>0.4770</td>\n",
       "      <td>0.000014</td>\n",
       "      <td>0.0974</td>\n",
       "      <td>0.515</td>\n",
       "      <td>140.182</td>\n",
       "      <td>4</td>\n",
       "      <td>3.606450</td>\n",
       "    </tr>\n",
       "    <tr>\n",
       "      <th>2</th>\n",
       "      <td>Joshua Hyslop</td>\n",
       "      <td>57</td>\n",
       "      <td>2012</td>\n",
       "      <td>acoustic</td>\n",
       "      <td>0.409</td>\n",
       "      <td>0.234</td>\n",
       "      <td>3</td>\n",
       "      <td>-13.711</td>\n",
       "      <td>1</td>\n",
       "      <td>0.0323</td>\n",
       "      <td>0.3380</td>\n",
       "      <td>0.000050</td>\n",
       "      <td>0.0895</td>\n",
       "      <td>0.145</td>\n",
       "      <td>139.832</td>\n",
       "      <td>4</td>\n",
       "      <td>2.649333</td>\n",
       "    </tr>\n",
       "    <tr>\n",
       "      <th>3</th>\n",
       "      <td>Boyce Avenue</td>\n",
       "      <td>58</td>\n",
       "      <td>2012</td>\n",
       "      <td>acoustic</td>\n",
       "      <td>0.392</td>\n",
       "      <td>0.251</td>\n",
       "      <td>10</td>\n",
       "      <td>-9.845</td>\n",
       "      <td>1</td>\n",
       "      <td>0.0363</td>\n",
       "      <td>0.8070</td>\n",
       "      <td>0.000000</td>\n",
       "      <td>0.0797</td>\n",
       "      <td>0.508</td>\n",
       "      <td>204.961</td>\n",
       "      <td>4</td>\n",
       "      <td>5.071550</td>\n",
       "    </tr>\n",
       "    <tr>\n",
       "      <th>4</th>\n",
       "      <td>Andrew Belle</td>\n",
       "      <td>54</td>\n",
       "      <td>2012</td>\n",
       "      <td>acoustic</td>\n",
       "      <td>0.430</td>\n",
       "      <td>0.791</td>\n",
       "      <td>6</td>\n",
       "      <td>-5.419</td>\n",
       "      <td>0</td>\n",
       "      <td>0.0302</td>\n",
       "      <td>0.0726</td>\n",
       "      <td>0.019300</td>\n",
       "      <td>0.1100</td>\n",
       "      <td>0.217</td>\n",
       "      <td>171.864</td>\n",
       "      <td>4</td>\n",
       "      <td>4.072000</td>\n",
       "    </tr>\n",
       "  </tbody>\n",
       "</table>\n",
       "</div>"
      ],
      "text/plain": [
       "     artist_name  popularity  year     genre  danceability  energy  key  \\\n",
       "0     Jason Mraz          68  2012  acoustic         0.483   0.303    4   \n",
       "1     Jason Mraz          50  2012  acoustic         0.572   0.454    3   \n",
       "2  Joshua Hyslop          57  2012  acoustic         0.409   0.234    3   \n",
       "3   Boyce Avenue          58  2012  acoustic         0.392   0.251   10   \n",
       "4   Andrew Belle          54  2012  acoustic         0.430   0.791    6   \n",
       "\n",
       "   loudness  mode  speechiness  acousticness  instrumentalness  liveness  \\\n",
       "0   -10.058     1       0.0429        0.6940          0.000000    0.1150   \n",
       "1   -10.286     1       0.0258        0.4770          0.000014    0.0974   \n",
       "2   -13.711     1       0.0323        0.3380          0.000050    0.0895   \n",
       "3    -9.845     1       0.0363        0.8070          0.000000    0.0797   \n",
       "4    -5.419     0       0.0302        0.0726          0.019300    0.1100   \n",
       "\n",
       "   valence    tempo  time_signature  duration_minutes  \n",
       "0    0.139  133.406               3          4.002767  \n",
       "1    0.515  140.182               4          3.606450  \n",
       "2    0.145  139.832               4          2.649333  \n",
       "3    0.508  204.961               4          5.071550  \n",
       "4    0.217  171.864               4          4.072000  "
      ]
     },
     "execution_count": 41,
     "metadata": {},
     "output_type": "execute_result"
    }
   ],
   "source": [
    "df.head()"
   ]
  },
  {
   "cell_type": "markdown",
   "metadata": {
    "id": "ixsFuy44fYxY"
   },
   "source": [
    "**Handling Missing Value**\n"
   ]
  },
  {
   "cell_type": "code",
   "execution_count": 42,
   "metadata": {
    "colab": {
     "base_uri": "https://localhost:8080/"
    },
    "id": "CUBG_n__EAcn",
    "outputId": "5e07d07c-55fb-43ce-e187-edf5ffb978fe"
   },
   "outputs": [
    {
     "data": {
      "text/plain": [
       "artist_name         0.0\n",
       "popularity          0.0\n",
       "year                0.0\n",
       "genre               0.0\n",
       "danceability        0.0\n",
       "energy              0.0\n",
       "key                 0.0\n",
       "loudness            0.0\n",
       "mode                0.0\n",
       "speechiness         0.0\n",
       "acousticness        0.0\n",
       "instrumentalness    0.0\n",
       "liveness            0.0\n",
       "valence             0.0\n",
       "tempo               0.0\n",
       "time_signature      0.0\n",
       "duration_minutes    0.0\n",
       "dtype: float64"
      ]
     },
     "execution_count": 42,
     "metadata": {},
     "output_type": "execute_result"
    }
   ],
   "source": [
    "#checking for the null values\n",
    "df.isnull().sum()/len(df)"
   ]
  },
  {
   "cell_type": "code",
   "execution_count": 43,
   "metadata": {
    "id": "AdPR2XmsdppZ"
   },
   "outputs": [],
   "source": [
    "# remove Nulls\n",
    "df=df.dropna()"
   ]
  },
  {
   "cell_type": "markdown",
   "metadata": {
    "id": "9fYZAhQMZKYq"
   },
   "source": [
    "## **Data Visualization**"
   ]
  },
  {
   "cell_type": "code",
   "execution_count": 44,
   "metadata": {
    "colab": {
     "base_uri": "https://localhost:8080/"
    },
    "id": "7G234dUWZRjS",
    "outputId": "674d0c85-ba85-411f-ab8f-a9ed43ac107f"
   },
   "outputs": [
    {
     "name": "stdout",
     "output_type": "stream",
     "text": [
      "<class 'pandas.core.frame.DataFrame'>\n",
      "RangeIndex: 1159764 entries, 0 to 1159763\n",
      "Data columns (total 17 columns):\n",
      " #   Column            Non-Null Count    Dtype  \n",
      "---  ------            --------------    -----  \n",
      " 0   artist_name       1159764 non-null  object \n",
      " 1   popularity        1159764 non-null  int64  \n",
      " 2   year              1159764 non-null  int64  \n",
      " 3   genre             1159764 non-null  object \n",
      " 4   danceability      1159764 non-null  float64\n",
      " 5   energy            1159764 non-null  float64\n",
      " 6   key               1159764 non-null  int64  \n",
      " 7   loudness          1159764 non-null  float64\n",
      " 8   mode              1159764 non-null  int64  \n",
      " 9   speechiness       1159764 non-null  float64\n",
      " 10  acousticness      1159764 non-null  float64\n",
      " 11  instrumentalness  1159764 non-null  float64\n",
      " 12  liveness          1159764 non-null  float64\n",
      " 13  valence           1159764 non-null  float64\n",
      " 14  tempo             1159764 non-null  float64\n",
      " 15  time_signature    1159764 non-null  int64  \n",
      " 16  duration_minutes  1159764 non-null  float64\n",
      "dtypes: float64(10), int64(5), object(2)\n",
      "memory usage: 150.4+ MB\n"
     ]
    }
   ],
   "source": [
    "df.info()"
   ]
  },
  {
   "cell_type": "code",
   "execution_count": 45,
   "metadata": {
    "colab": {
     "base_uri": "https://localhost:8080/",
     "height": 564
    },
    "id": "swtUXERbZRmZ",
    "outputId": "94ff2443-a819-43c1-e0e7-390e42315385"
   },
   "outputs": [
    {
     "data": {
      "image/png": "[encoded data removed]",
      "text/plain": [
       "<Figure size 576x432 with 1 Axes>"
      ]
     },
     "metadata": {
      "needs_background": "light"
     },
     "output_type": "display_data"
    }
   ],
   "source": [
    "import seaborn as sns\n",
    "import matplotlib.pyplot as plt\n",
    "\n",
    "plt.figure(figsize=(8, 6))\n",
    "sns.histplot(df['popularity'], bins=20, kde=True, color='skyblue')\n",
    "plt.xlabel('Popularity')\n",
    "plt.ylabel('Frequency')\n",
    "plt.title('Distribution of Popularity')\n",
    "plt.show()\n"
   ]
  },
  {
   "cell_type": "code",
   "execution_count": 46,
   "metadata": {
    "colab": {
     "base_uri": "https://localhost:8080/",
     "height": 677
    },
    "id": "Kcvt1RnsbVJ_",
    "outputId": "b15d11a2-c75f-49a4-c659-ae36c2c1095b"
   },
   "outputs": [
    {
     "data": {
      "image/png": "[encoded data removed]",
      "text/plain": [
       "<Figure size 864x432 with 1 Axes>"
      ]
     },
     "metadata": {
      "needs_background": "light"
     },
     "output_type": "display_data"
    }
   ],
   "source": [
    "plt.figure(figsize=(12, 6))\n",
    "sns.boxplot(data=df, x='genre', y='popularity', palette='viridis')\n",
    "plt.xticks(rotation=90)\n",
    "plt.xlabel('Genre')\n",
    "plt.ylabel('Popularity')\n",
    "plt.title('Popularity by Genre')\n",
    "plt.show()\n"
   ]
  },
  {
   "cell_type": "code",
   "execution_count": 47,
   "metadata": {
    "colab": {
     "base_uri": "https://localhost:8080/",
     "height": 606
    },
    "id": "s9DAsFsqboBS",
    "outputId": "0bb0cf1b-4ce3-46dd-9fdf-37b684cf6e1e"
   },
   "outputs": [
    {
     "data": {
      "image/png": "[encoded data removed]",
      "text/plain": [
       "<Figure size 864x432 with 1 Axes>"
      ]
     },
     "metadata": {
      "needs_background": "light"
     },
     "output_type": "display_data"
    }
   ],
   "source": [
    "import pandas as pd\n",
    "import seaborn as sns\n",
    "import matplotlib.pyplot as plt\n",
    "\n",
    "# Calculate the average popularity for each genre\n",
    "genre_popularity = df.groupby('genre')['popularity'].mean().reset_index()\n",
    "\n",
    "# Sort the genres by popularity in descending order\n",
    "top_genres = genre_popularity.sort_values(by='popularity', ascending=False).head(10)\n",
    "\n",
    "# Create a bar plot for the top popular genres\n",
    "plt.figure(figsize=(12, 6))\n",
    "sns.barplot(data=top_genres, x='genre', y='popularity', palette='viridis')\n",
    "plt.xticks(rotation=45)\n",
    "plt.xlabel('Genre')\n",
    "plt.ylabel('Average Popularity')\n",
    "plt.title('Top Popular Genres')\n",
    "plt.show()\n"
   ]
  },
  {
   "cell_type": "code",
   "execution_count": 48,
   "metadata": {
    "colab": {
     "base_uri": "https://localhost:8080/",
     "height": 410
    },
    "id": "3HFjVOD6cBQb",
    "outputId": "6d5f8fb6-b296-4ec3-eaa6-3cc1b59df6b0"
   },
   "outputs": [
    {
     "data": {
      "image/png": "[encoded data removed]",
      "text/plain": [
       "<Figure size 576x288 with 1 Axes>"
      ]
     },
     "metadata": {
      "needs_background": "light"
     },
     "output_type": "display_data"
    }
   ],
   "source": [
    "import pandas as pd\n",
    "import seaborn as sns\n",
    "import matplotlib.pyplot as plt\n",
    "\n",
    "# Calculate the average popularity for each artist\n",
    "artist_popularity = df.groupby('artist_name')['popularity'].mean().reset_index()\n",
    "\n",
    "# Sort the artists by popularity in descending order\n",
    "top_artists = artist_popularity.sort_values(by='popularity', ascending=False).head(15)  # You can adjust the number of top artists as needed\n",
    "\n",
    "# Create a bar plot for the top popular artists\n",
    "plt.figure(figsize=(8, 4))\n",
    "sns.barplot(data=top_artists, x='popularity', y='artist_name', palette='viridis')\n",
    "plt.xlabel('Average Popularity')\n",
    "plt.ylabel('Artist')\n",
    "plt.title('Most Popular Artists')\n",
    "plt.show()\n"
   ]
  },
  {
   "cell_type": "code",
   "execution_count": 49,
   "metadata": {
    "colab": {
     "base_uri": "https://localhost:8080/"
    },
    "id": "X4LN7ueVeOBq",
    "outputId": "ce200dea-6264-40b5-cbef-3622240c8683"
   },
   "outputs": [
    {
     "data": {
      "text/plain": [
       "Traditional              4058\n",
       "Grateful Dead            2320\n",
       "Johann Sebastian Bach    2125\n",
       "Giacomo Meyerbeer        1345\n",
       "Elvis Presley            1242\n",
       "                         ... \n",
       "Jim Chappell              188\n",
       "Puscifer                  187\n",
       "Black Sun Empire          187\n",
       "Toneshifterz              187\n",
       "Zeca Pagodinho            187\n",
       "Name: artist_name, Length: 500, dtype: int64"
      ]
     },
     "execution_count": 49,
     "metadata": {},
     "output_type": "execute_result"
    }
   ],
   "source": [
    "df['artist_name'].value_counts()[:500]"
   ]
  },
  {
   "cell_type": "code",
   "execution_count": 50,
   "metadata": {
    "colab": {
     "base_uri": "https://localhost:8080/"
    },
    "id": "Wri-H75XevAE",
    "outputId": "fbec7e5f-3474-4165-8222-7a1edd1b8f90"
   },
   "outputs": [
    {
     "data": {
      "text/plain": [
       "Traditional              4058\n",
       "Grateful Dead            2320\n",
       "Johann Sebastian Bach    2125\n",
       "Giacomo Meyerbeer        1345\n",
       "Elvis Presley            1242\n",
       "                         ... \n",
       "Gaia Consort                1\n",
       "Dzej Ramadanovski           1\n",
       "Goca Trzan                  1\n",
       "Robbie O'Connell            1\n",
       "Sleep Therapist             1\n",
       "Name: artist_name, Length: 64159, dtype: int64"
      ]
     },
     "execution_count": 50,
     "metadata": {},
     "output_type": "execute_result"
    }
   ],
   "source": [
    "df['artist_name'].value_counts()"
   ]
  },
  {
   "cell_type": "markdown",
   "metadata": {
    "id": "ALy5eq-3s2b2"
   },
   "source": [
    "**Convert Artist with less accurance into other categories**"
   ]
  },
  {
   "cell_type": "code",
   "execution_count": 51,
   "metadata": {
    "colab": {
     "base_uri": "https://localhost:8080/"
    },
    "id": "WalWoYvggQ_p",
    "outputId": "8e0c018e-fdd2-42ab-abef-7613fdb91c89"
   },
   "outputs": [
    {
     "name": "stdout",
     "output_type": "stream",
     "text": [
      "The Carburetors         49\n",
      "Agni                    49\n",
      "Kavita Krishnamurthy    49\n",
      "Lit                     49\n",
      "Kash Trivedi            49\n",
      "                        ..\n",
      "Gaia Consort             1\n",
      "Dzej Ramadanovski        1\n",
      "Goca Trzan               1\n",
      "Robbie O'Connell         1\n",
      "Sleep Therapist          1\n",
      "Name: artist_name, Length: 58294, dtype: int64\n"
     ]
    }
   ],
   "source": [
    "#\n",
    "\n",
    "# Get the value counts for the \"artist_name\" column\n",
    "artist_counts = df['artist_name'].value_counts()\n",
    "\n",
    "# Filter the counts to include only values with count less than 20\n",
    "artist_counts_less_than_20 = artist_counts[artist_counts < 50]\n",
    "\n",
    "# Display the value counts for artist names with count less than 20\n",
    "print(artist_counts_less_than_20)\n"
   ]
  },
  {
   "cell_type": "code",
   "execution_count": 52,
   "metadata": {
    "colab": {
     "base_uri": "https://localhost:8080/"
    },
    "id": "SVVMS24hg1ak",
    "outputId": "8a13529d-8d37-4d88-e1b0-47f3dab1dbd6"
   },
   "outputs": [
    {
     "name": "stdout",
     "output_type": "stream",
     "text": [
      "Others                   549622\n",
      "Traditional                4058\n",
      "Grateful Dead              2320\n",
      "Johann Sebastian Bach      2125\n",
      "Giacomo Meyerbeer          1345\n",
      "                          ...  \n",
      "Area 11                      50\n",
      "Taio Cruz                    50\n",
      "Sons Of Maria                50\n",
      "Savoy                        50\n",
      "CalledOut Music              50\n",
      "Name: artist_name, Length: 5866, dtype: int64\n"
     ]
    }
   ],
   "source": [
    "# Convert artist with less than 50 appearance to other category\n",
    "# Assuming your DataFrame is named df\n",
    "\n",
    "# Get the value counts for the \"artist_name\" column\n",
    "artist_counts = df['artist_name'].value_counts()\n",
    "\n",
    "# Identify artists with counts less than 50\n",
    "artists_less_than_50 = artist_counts[artist_counts < 50].index.tolist()\n",
    "\n",
    "# Label the artists as \"Others\" in the DataFrame\n",
    "df.loc[df['artist_name'].isin(artists_less_than_50), 'artist_name'] = 'Others'\n",
    "\n",
    "# Get the updated value counts\n",
    "updated_artist_counts = df['artist_name'].value_counts()\n",
    "\n",
    "# Display the updated value counts\n",
    "print(updated_artist_counts)\n"
   ]
  },
  {
   "cell_type": "markdown",
   "metadata": {
    "id": "b3q3NKNKr--O"
   },
   "source": [
    "### Correlations"
   ]
  },
  {
   "cell_type": "code",
   "execution_count": 53,
   "metadata": {
    "colab": {
     "base_uri": "https://localhost:8080/",
     "height": 806
    },
    "id": "tnvQ85oAr9wL",
    "outputId": "f57554d3-0f03-4bc3-cd21-5c07c4d0d8a7"
   },
   "outputs": [
    {
     "data": {
      "image/png": "[encoded data removed]",
      "text/plain": [
       "<Figure size 720x576 with 2 Axes>"
      ]
     },
     "metadata": {
      "needs_background": "light"
     },
     "output_type": "display_data"
    }
   ],
   "source": [
    "import seaborn as sns\n",
    "import matplotlib.pyplot as plt\n",
    "\n",
    "\n",
    "# Select only the numerical columns for correlation analysis\n",
    "numerical_columns = df.select_dtypes(include=['float64'])\n",
    "\n",
    "# Calculate the correlation matrix\n",
    "correlation_matrix = numerical_columns.corr()\n",
    "\n",
    "# Create a heatmap\n",
    "plt.figure(figsize=(10, 8))\n",
    "sns.heatmap(correlation_matrix, annot=True, cmap='coolwarm', fmt=\".2f\")\n",
    "plt.title('Correlation Heatmap')\n",
    "plt.show()\n"
   ]
  },
  {
   "cell_type": "code",
   "execution_count": 54,
   "metadata": {
    "colab": {
     "base_uri": "https://localhost:8080/",
     "height": 206
    },
    "id": "I8F3SviusT7_",
    "outputId": "66bb8ada-cb4b-4ced-adb7-a0620965fee1"
   },
   "outputs": [
    {
     "data": {
      "text/html": [
       "<div>\n",
       "<style scoped>\n",
       "    .dataframe tbody tr th:only-of-type {\n",
       "        vertical-align: middle;\n",
       "    }\n",
       "\n",
       "    .dataframe tbody tr th {\n",
       "        vertical-align: top;\n",
       "    }\n",
       "\n",
       "    .dataframe thead th {\n",
       "        text-align: right;\n",
       "    }\n",
       "</style>\n",
       "<table border=\"1\" class=\"dataframe\">\n",
       "  <thead>\n",
       "    <tr style=\"text-align: right;\">\n",
       "      <th></th>\n",
       "      <th>artist_name</th>\n",
       "      <th>popularity</th>\n",
       "      <th>year</th>\n",
       "      <th>genre</th>\n",
       "      <th>energy</th>\n",
       "      <th>key</th>\n",
       "      <th>mode</th>\n",
       "      <th>speechiness</th>\n",
       "      <th>instrumentalness</th>\n",
       "      <th>liveness</th>\n",
       "      <th>valence</th>\n",
       "      <th>tempo</th>\n",
       "      <th>time_signature</th>\n",
       "      <th>duration_minutes</th>\n",
       "    </tr>\n",
       "  </thead>\n",
       "  <tbody>\n",
       "    <tr>\n",
       "      <th>0</th>\n",
       "      <td>Jason Mraz</td>\n",
       "      <td>68</td>\n",
       "      <td>2012</td>\n",
       "      <td>acoustic</td>\n",
       "      <td>0.303</td>\n",
       "      <td>4</td>\n",
       "      <td>1</td>\n",
       "      <td>0.0429</td>\n",
       "      <td>0.000000</td>\n",
       "      <td>0.1150</td>\n",
       "      <td>0.139</td>\n",
       "      <td>133.406</td>\n",
       "      <td>3</td>\n",
       "      <td>4.002767</td>\n",
       "    </tr>\n",
       "    <tr>\n",
       "      <th>1</th>\n",
       "      <td>Jason Mraz</td>\n",
       "      <td>50</td>\n",
       "      <td>2012</td>\n",
       "      <td>acoustic</td>\n",
       "      <td>0.454</td>\n",
       "      <td>3</td>\n",
       "      <td>1</td>\n",
       "      <td>0.0258</td>\n",
       "      <td>0.000014</td>\n",
       "      <td>0.0974</td>\n",
       "      <td>0.515</td>\n",
       "      <td>140.182</td>\n",
       "      <td>4</td>\n",
       "      <td>3.606450</td>\n",
       "    </tr>\n",
       "    <tr>\n",
       "      <th>2</th>\n",
       "      <td>Joshua Hyslop</td>\n",
       "      <td>57</td>\n",
       "      <td>2012</td>\n",
       "      <td>acoustic</td>\n",
       "      <td>0.234</td>\n",
       "      <td>3</td>\n",
       "      <td>1</td>\n",
       "      <td>0.0323</td>\n",
       "      <td>0.000050</td>\n",
       "      <td>0.0895</td>\n",
       "      <td>0.145</td>\n",
       "      <td>139.832</td>\n",
       "      <td>4</td>\n",
       "      <td>2.649333</td>\n",
       "    </tr>\n",
       "    <tr>\n",
       "      <th>3</th>\n",
       "      <td>Boyce Avenue</td>\n",
       "      <td>58</td>\n",
       "      <td>2012</td>\n",
       "      <td>acoustic</td>\n",
       "      <td>0.251</td>\n",
       "      <td>10</td>\n",
       "      <td>1</td>\n",
       "      <td>0.0363</td>\n",
       "      <td>0.000000</td>\n",
       "      <td>0.0797</td>\n",
       "      <td>0.508</td>\n",
       "      <td>204.961</td>\n",
       "      <td>4</td>\n",
       "      <td>5.071550</td>\n",
       "    </tr>\n",
       "    <tr>\n",
       "      <th>4</th>\n",
       "      <td>Andrew Belle</td>\n",
       "      <td>54</td>\n",
       "      <td>2012</td>\n",
       "      <td>acoustic</td>\n",
       "      <td>0.791</td>\n",
       "      <td>6</td>\n",
       "      <td>0</td>\n",
       "      <td>0.0302</td>\n",
       "      <td>0.019300</td>\n",
       "      <td>0.1100</td>\n",
       "      <td>0.217</td>\n",
       "      <td>171.864</td>\n",
       "      <td>4</td>\n",
       "      <td>4.072000</td>\n",
       "    </tr>\n",
       "  </tbody>\n",
       "</table>\n",
       "</div>"
      ],
      "text/plain": [
       "     artist_name  popularity  year     genre  energy  key  mode  speechiness  \\\n",
       "0     Jason Mraz          68  2012  acoustic   0.303    4     1       0.0429   \n",
       "1     Jason Mraz          50  2012  acoustic   0.454    3     1       0.0258   \n",
       "2  Joshua Hyslop          57  2012  acoustic   0.234    3     1       0.0323   \n",
       "3   Boyce Avenue          58  2012  acoustic   0.251   10     1       0.0363   \n",
       "4   Andrew Belle          54  2012  acoustic   0.791    6     0       0.0302   \n",
       "\n",
       "   instrumentalness  liveness  valence    tempo  time_signature  \\\n",
       "0          0.000000    0.1150    0.139  133.406               3   \n",
       "1          0.000014    0.0974    0.515  140.182               4   \n",
       "2          0.000050    0.0895    0.145  139.832               4   \n",
       "3          0.000000    0.0797    0.508  204.961               4   \n",
       "4          0.019300    0.1100    0.217  171.864               4   \n",
       "\n",
       "   duration_minutes  \n",
       "0          4.002767  \n",
       "1          3.606450  \n",
       "2          2.649333  \n",
       "3          5.071550  \n",
       "4          4.072000  "
      ]
     },
     "execution_count": 54,
     "metadata": {},
     "output_type": "execute_result"
    }
   ],
   "source": [
    "## drop High correlated input columns\n",
    "import pandas as pd\n",
    "\n",
    "# Assuming your DataFrame is named df\n",
    "\n",
    "# Select only the numerical columns for correlation analysis (excluding 'popularity')\n",
    "numerical_columns = df.select_dtypes(include=['float','int']).drop(columns=['popularity'])\n",
    "\n",
    "# Calculate the correlation matrix\n",
    "correlation_matrix = numerical_columns.corr()\n",
    "\n",
    "# Create a mask for highly correlated features (excluding the diagonal)\n",
    "high_corr_mask = (correlation_matrix.abs() >= 0.5) & (correlation_matrix < 1)\n",
    "\n",
    "# Find pairs of highly correlated features\n",
    "high_corr_pairs = [(col1, col2) for col1 in high_corr_mask.columns for col2 in high_corr_mask.columns if high_corr_mask.loc[col1, col2]]\n",
    "\n",
    "# Remove one of each highly correlated pair\n",
    "columns_to_drop = set()\n",
    "for col1, col2 in high_corr_pairs:\n",
    "    if col1 not in columns_to_drop and col2 not in columns_to_drop:\n",
    "        # Decide which feature to drop (e.g., based on domain knowledge or other criteria)\n",
    "        # Here, we drop the one with the longer column name\n",
    "        if len(col1) > len(col2):\n",
    "            columns_to_drop.add(col1)\n",
    "        else:\n",
    "            columns_to_drop.add(col2)\n",
    "\n",
    "# Drop the highly correlated features from the DataFrame\n",
    "df_filtered = df.drop(columns=list(columns_to_drop))\n",
    "\n",
    "# Display the DataFrame with highly correlated features removed\n",
    "df_filtered.head()\n"
   ]
  },
  {
   "cell_type": "markdown",
   "metadata": {
    "id": "Zp2JI0IXd_ob"
   },
   "source": [
    "## **Preprocessing**"
   ]
  },
  {
   "cell_type": "markdown",
   "metadata": {
    "id": "Ny8m28JkefLO"
   },
   "source": [
    "### Label Encoding"
   ]
  },
  {
   "cell_type": "code",
   "execution_count": 55,
   "metadata": {
    "colab": {
     "base_uri": "https://localhost:8080/",
     "height": 444
    },
    "id": "mmFdIfgDeFst",
    "outputId": "48f0ed6c-8d81-484c-bbe2-36c3bcab48c6"
   },
   "outputs": [
    {
     "data": {
      "text/html": [
       "<div>\n",
       "<style scoped>\n",
       "    .dataframe tbody tr th:only-of-type {\n",
       "        vertical-align: middle;\n",
       "    }\n",
       "\n",
       "    .dataframe tbody tr th {\n",
       "        vertical-align: top;\n",
       "    }\n",
       "\n",
       "    .dataframe thead th {\n",
       "        text-align: right;\n",
       "    }\n",
       "</style>\n",
       "<table border=\"1\" class=\"dataframe\">\n",
       "  <thead>\n",
       "    <tr style=\"text-align: right;\">\n",
       "      <th></th>\n",
       "      <th>artist_name</th>\n",
       "      <th>popularity</th>\n",
       "      <th>year</th>\n",
       "      <th>genre</th>\n",
       "      <th>energy</th>\n",
       "      <th>key</th>\n",
       "      <th>mode</th>\n",
       "      <th>speechiness</th>\n",
       "      <th>instrumentalness</th>\n",
       "      <th>liveness</th>\n",
       "      <th>valence</th>\n",
       "      <th>tempo</th>\n",
       "      <th>time_signature</th>\n",
       "      <th>duration_minutes</th>\n",
       "    </tr>\n",
       "  </thead>\n",
       "  <tbody>\n",
       "    <tr>\n",
       "      <th>0</th>\n",
       "      <td>2441</td>\n",
       "      <td>68</td>\n",
       "      <td>2012</td>\n",
       "      <td>acoustic</td>\n",
       "      <td>0.303</td>\n",
       "      <td>4</td>\n",
       "      <td>1</td>\n",
       "      <td>0.0429</td>\n",
       "      <td>0.000000</td>\n",
       "      <td>0.1150</td>\n",
       "      <td>0.1390</td>\n",
       "      <td>133.406</td>\n",
       "      <td>3</td>\n",
       "      <td>4.002767</td>\n",
       "    </tr>\n",
       "    <tr>\n",
       "      <th>1</th>\n",
       "      <td>2441</td>\n",
       "      <td>50</td>\n",
       "      <td>2012</td>\n",
       "      <td>acoustic</td>\n",
       "      <td>0.454</td>\n",
       "      <td>3</td>\n",
       "      <td>1</td>\n",
       "      <td>0.0258</td>\n",
       "      <td>0.000014</td>\n",
       "      <td>0.0974</td>\n",
       "      <td>0.5150</td>\n",
       "      <td>140.182</td>\n",
       "      <td>4</td>\n",
       "      <td>3.606450</td>\n",
       "    </tr>\n",
       "    <tr>\n",
       "      <th>2</th>\n",
       "      <td>2624</td>\n",
       "      <td>57</td>\n",
       "      <td>2012</td>\n",
       "      <td>acoustic</td>\n",
       "      <td>0.234</td>\n",
       "      <td>3</td>\n",
       "      <td>1</td>\n",
       "      <td>0.0323</td>\n",
       "      <td>0.000050</td>\n",
       "      <td>0.0895</td>\n",
       "      <td>0.1450</td>\n",
       "      <td>139.832</td>\n",
       "      <td>4</td>\n",
       "      <td>2.649333</td>\n",
       "    </tr>\n",
       "    <tr>\n",
       "      <th>3</th>\n",
       "      <td>731</td>\n",
       "      <td>58</td>\n",
       "      <td>2012</td>\n",
       "      <td>acoustic</td>\n",
       "      <td>0.251</td>\n",
       "      <td>10</td>\n",
       "      <td>1</td>\n",
       "      <td>0.0363</td>\n",
       "      <td>0.000000</td>\n",
       "      <td>0.0797</td>\n",
       "      <td>0.5080</td>\n",
       "      <td>204.961</td>\n",
       "      <td>4</td>\n",
       "      <td>5.071550</td>\n",
       "    </tr>\n",
       "    <tr>\n",
       "      <th>4</th>\n",
       "      <td>272</td>\n",
       "      <td>54</td>\n",
       "      <td>2012</td>\n",
       "      <td>acoustic</td>\n",
       "      <td>0.791</td>\n",
       "      <td>6</td>\n",
       "      <td>0</td>\n",
       "      <td>0.0302</td>\n",
       "      <td>0.019300</td>\n",
       "      <td>0.1100</td>\n",
       "      <td>0.2170</td>\n",
       "      <td>171.864</td>\n",
       "      <td>4</td>\n",
       "      <td>4.072000</td>\n",
       "    </tr>\n",
       "    <tr>\n",
       "      <th>...</th>\n",
       "      <td>...</td>\n",
       "      <td>...</td>\n",
       "      <td>...</td>\n",
       "      <td>...</td>\n",
       "      <td>...</td>\n",
       "      <td>...</td>\n",
       "      <td>...</td>\n",
       "      <td>...</td>\n",
       "      <td>...</td>\n",
       "      <td>...</td>\n",
       "      <td>...</td>\n",
       "      <td>...</td>\n",
       "      <td>...</td>\n",
       "      <td>...</td>\n",
       "    </tr>\n",
       "    <tr>\n",
       "      <th>1159759</th>\n",
       "      <td>3694</td>\n",
       "      <td>4</td>\n",
       "      <td>2011</td>\n",
       "      <td>trip-hop</td>\n",
       "      <td>0.742</td>\n",
       "      <td>10</td>\n",
       "      <td>0</td>\n",
       "      <td>0.0736</td>\n",
       "      <td>0.000141</td>\n",
       "      <td>0.1590</td>\n",
       "      <td>0.5220</td>\n",
       "      <td>107.951</td>\n",
       "      <td>3</td>\n",
       "      <td>5.733550</td>\n",
       "    </tr>\n",
       "    <tr>\n",
       "      <th>1159760</th>\n",
       "      <td>3694</td>\n",
       "      <td>3</td>\n",
       "      <td>2011</td>\n",
       "      <td>trip-hop</td>\n",
       "      <td>0.675</td>\n",
       "      <td>7</td>\n",
       "      <td>0</td>\n",
       "      <td>0.0326</td>\n",
       "      <td>0.000129</td>\n",
       "      <td>0.1300</td>\n",
       "      <td>0.2640</td>\n",
       "      <td>119.897</td>\n",
       "      <td>4</td>\n",
       "      <td>4.751117</td>\n",
       "    </tr>\n",
       "    <tr>\n",
       "      <th>1159761</th>\n",
       "      <td>245</td>\n",
       "      <td>2</td>\n",
       "      <td>2011</td>\n",
       "      <td>trip-hop</td>\n",
       "      <td>0.440</td>\n",
       "      <td>5</td>\n",
       "      <td>1</td>\n",
       "      <td>0.0274</td>\n",
       "      <td>0.003130</td>\n",
       "      <td>0.0936</td>\n",
       "      <td>0.0351</td>\n",
       "      <td>100.076</td>\n",
       "      <td>4</td>\n",
       "      <td>3.570883</td>\n",
       "    </tr>\n",
       "    <tr>\n",
       "      <th>1159762</th>\n",
       "      <td>3857</td>\n",
       "      <td>0</td>\n",
       "      <td>2011</td>\n",
       "      <td>trip-hop</td>\n",
       "      <td>0.405</td>\n",
       "      <td>0</td>\n",
       "      <td>1</td>\n",
       "      <td>0.0276</td>\n",
       "      <td>0.000063</td>\n",
       "      <td>0.1250</td>\n",
       "      <td>0.2020</td>\n",
       "      <td>133.885</td>\n",
       "      <td>3</td>\n",
       "      <td>3.985550</td>\n",
       "    </tr>\n",
       "    <tr>\n",
       "      <th>1159763</th>\n",
       "      <td>3502</td>\n",
       "      <td>3</td>\n",
       "      <td>2011</td>\n",
       "      <td>trip-hop</td>\n",
       "      <td>0.861</td>\n",
       "      <td>1</td>\n",
       "      <td>0</td>\n",
       "      <td>0.1250</td>\n",
       "      <td>0.000008</td>\n",
       "      <td>0.0581</td>\n",
       "      <td>0.8570</td>\n",
       "      <td>89.987</td>\n",
       "      <td>4</td>\n",
       "      <td>3.537117</td>\n",
       "    </tr>\n",
       "  </tbody>\n",
       "</table>\n",
       "<p>1159764 rows × 14 columns</p>\n",
       "</div>"
      ],
      "text/plain": [
       "         artist_name  popularity  year     genre  energy  key  mode  \\\n",
       "0               2441          68  2012  acoustic   0.303    4     1   \n",
       "1               2441          50  2012  acoustic   0.454    3     1   \n",
       "2               2624          57  2012  acoustic   0.234    3     1   \n",
       "3                731          58  2012  acoustic   0.251   10     1   \n",
       "4                272          54  2012  acoustic   0.791    6     0   \n",
       "...              ...         ...   ...       ...     ...  ...   ...   \n",
       "1159759         3694           4  2011  trip-hop   0.742   10     0   \n",
       "1159760         3694           3  2011  trip-hop   0.675    7     0   \n",
       "1159761          245           2  2011  trip-hop   0.440    5     1   \n",
       "1159762         3857           0  2011  trip-hop   0.405    0     1   \n",
       "1159763         3502           3  2011  trip-hop   0.861    1     0   \n",
       "\n",
       "         speechiness  instrumentalness  liveness  valence    tempo  \\\n",
       "0             0.0429          0.000000    0.1150   0.1390  133.406   \n",
       "1             0.0258          0.000014    0.0974   0.5150  140.182   \n",
       "2             0.0323          0.000050    0.0895   0.1450  139.832   \n",
       "3             0.0363          0.000000    0.0797   0.5080  204.961   \n",
       "4             0.0302          0.019300    0.1100   0.2170  171.864   \n",
       "...              ...               ...       ...      ...      ...   \n",
       "1159759       0.0736          0.000141    0.1590   0.5220  107.951   \n",
       "1159760       0.0326          0.000129    0.1300   0.2640  119.897   \n",
       "1159761       0.0274          0.003130    0.0936   0.0351  100.076   \n",
       "1159762       0.0276          0.000063    0.1250   0.2020  133.885   \n",
       "1159763       0.1250          0.000008    0.0581   0.8570   89.987   \n",
       "\n",
       "         time_signature  duration_minutes  \n",
       "0                     3          4.002767  \n",
       "1                     4          3.606450  \n",
       "2                     4          2.649333  \n",
       "3                     4          5.071550  \n",
       "4                     4          4.072000  \n",
       "...                 ...               ...  \n",
       "1159759               3          5.733550  \n",
       "1159760               4          4.751117  \n",
       "1159761               4          3.570883  \n",
       "1159762               3          3.985550  \n",
       "1159763               4          3.537117  \n",
       "\n",
       "[1159764 rows x 14 columns]"
      ]
     },
     "execution_count": 55,
     "metadata": {},
     "output_type": "execute_result"
    }
   ],
   "source": [
    "from sklearn.preprocessing import LabelEncoder\n",
    "\n",
    "\n",
    "# convert artist name to one hot encoding\n",
    "categorical_columns = ['artist_name']\n",
    "\n",
    "# Initialize the LabelEncoder\n",
    "label_encoder = LabelEncoder()\n",
    "\n",
    "# Apply label encoding to each categorical column\n",
    "for column in categorical_columns:\n",
    "    df_filtered[column] = label_encoder.fit_transform(df_filtered[column])\n",
    "\n",
    "# Display the DataFrame with encoded categorical columns\n",
    "df_filtered\n"
   ]
  },
  {
   "cell_type": "code",
   "execution_count": 56,
   "metadata": {
    "colab": {
     "base_uri": "https://localhost:8080/",
     "height": 273
    },
    "id": "R1gNYgyueDyx",
    "outputId": "a336c675-8608-4e96-96ed-750a90991482"
   },
   "outputs": [
    {
     "data": {
      "text/html": [
       "<div>\n",
       "<style scoped>\n",
       "    .dataframe tbody tr th:only-of-type {\n",
       "        vertical-align: middle;\n",
       "    }\n",
       "\n",
       "    .dataframe tbody tr th {\n",
       "        vertical-align: top;\n",
       "    }\n",
       "\n",
       "    .dataframe thead th {\n",
       "        text-align: right;\n",
       "    }\n",
       "</style>\n",
       "<table border=\"1\" class=\"dataframe\">\n",
       "  <thead>\n",
       "    <tr style=\"text-align: right;\">\n",
       "      <th></th>\n",
       "      <th>artist_name</th>\n",
       "      <th>popularity</th>\n",
       "      <th>year</th>\n",
       "      <th>energy</th>\n",
       "      <th>key</th>\n",
       "      <th>mode</th>\n",
       "      <th>speechiness</th>\n",
       "      <th>instrumentalness</th>\n",
       "      <th>liveness</th>\n",
       "      <th>valence</th>\n",
       "      <th>...</th>\n",
       "      <th>genre_ska</th>\n",
       "      <th>genre_sleep</th>\n",
       "      <th>genre_songwriter</th>\n",
       "      <th>genre_soul</th>\n",
       "      <th>genre_spanish</th>\n",
       "      <th>genre_swedish</th>\n",
       "      <th>genre_tango</th>\n",
       "      <th>genre_techno</th>\n",
       "      <th>genre_trance</th>\n",
       "      <th>genre_trip-hop</th>\n",
       "    </tr>\n",
       "  </thead>\n",
       "  <tbody>\n",
       "    <tr>\n",
       "      <th>0</th>\n",
       "      <td>2441</td>\n",
       "      <td>68</td>\n",
       "      <td>2012</td>\n",
       "      <td>0.303</td>\n",
       "      <td>4</td>\n",
       "      <td>1</td>\n",
       "      <td>0.0429</td>\n",
       "      <td>0.000000</td>\n",
       "      <td>0.1150</td>\n",
       "      <td>0.139</td>\n",
       "      <td>...</td>\n",
       "      <td>0</td>\n",
       "      <td>0</td>\n",
       "      <td>0</td>\n",
       "      <td>0</td>\n",
       "      <td>0</td>\n",
       "      <td>0</td>\n",
       "      <td>0</td>\n",
       "      <td>0</td>\n",
       "      <td>0</td>\n",
       "      <td>0</td>\n",
       "    </tr>\n",
       "    <tr>\n",
       "      <th>1</th>\n",
       "      <td>2441</td>\n",
       "      <td>50</td>\n",
       "      <td>2012</td>\n",
       "      <td>0.454</td>\n",
       "      <td>3</td>\n",
       "      <td>1</td>\n",
       "      <td>0.0258</td>\n",
       "      <td>0.000014</td>\n",
       "      <td>0.0974</td>\n",
       "      <td>0.515</td>\n",
       "      <td>...</td>\n",
       "      <td>0</td>\n",
       "      <td>0</td>\n",
       "      <td>0</td>\n",
       "      <td>0</td>\n",
       "      <td>0</td>\n",
       "      <td>0</td>\n",
       "      <td>0</td>\n",
       "      <td>0</td>\n",
       "      <td>0</td>\n",
       "      <td>0</td>\n",
       "    </tr>\n",
       "    <tr>\n",
       "      <th>2</th>\n",
       "      <td>2624</td>\n",
       "      <td>57</td>\n",
       "      <td>2012</td>\n",
       "      <td>0.234</td>\n",
       "      <td>3</td>\n",
       "      <td>1</td>\n",
       "      <td>0.0323</td>\n",
       "      <td>0.000050</td>\n",
       "      <td>0.0895</td>\n",
       "      <td>0.145</td>\n",
       "      <td>...</td>\n",
       "      <td>0</td>\n",
       "      <td>0</td>\n",
       "      <td>0</td>\n",
       "      <td>0</td>\n",
       "      <td>0</td>\n",
       "      <td>0</td>\n",
       "      <td>0</td>\n",
       "      <td>0</td>\n",
       "      <td>0</td>\n",
       "      <td>0</td>\n",
       "    </tr>\n",
       "    <tr>\n",
       "      <th>3</th>\n",
       "      <td>731</td>\n",
       "      <td>58</td>\n",
       "      <td>2012</td>\n",
       "      <td>0.251</td>\n",
       "      <td>10</td>\n",
       "      <td>1</td>\n",
       "      <td>0.0363</td>\n",
       "      <td>0.000000</td>\n",
       "      <td>0.0797</td>\n",
       "      <td>0.508</td>\n",
       "      <td>...</td>\n",
       "      <td>0</td>\n",
       "      <td>0</td>\n",
       "      <td>0</td>\n",
       "      <td>0</td>\n",
       "      <td>0</td>\n",
       "      <td>0</td>\n",
       "      <td>0</td>\n",
       "      <td>0</td>\n",
       "      <td>0</td>\n",
       "      <td>0</td>\n",
       "    </tr>\n",
       "    <tr>\n",
       "      <th>4</th>\n",
       "      <td>272</td>\n",
       "      <td>54</td>\n",
       "      <td>2012</td>\n",
       "      <td>0.791</td>\n",
       "      <td>6</td>\n",
       "      <td>0</td>\n",
       "      <td>0.0302</td>\n",
       "      <td>0.019300</td>\n",
       "      <td>0.1100</td>\n",
       "      <td>0.217</td>\n",
       "      <td>...</td>\n",
       "      <td>0</td>\n",
       "      <td>0</td>\n",
       "      <td>0</td>\n",
       "      <td>0</td>\n",
       "      <td>0</td>\n",
       "      <td>0</td>\n",
       "      <td>0</td>\n",
       "      <td>0</td>\n",
       "      <td>0</td>\n",
       "      <td>0</td>\n",
       "    </tr>\n",
       "  </tbody>\n",
       "</table>\n",
       "<p>5 rows × 95 columns</p>\n",
       "</div>"
      ],
      "text/plain": [
       "   artist_name  popularity  year  energy  key  mode  speechiness  \\\n",
       "0         2441          68  2012   0.303    4     1       0.0429   \n",
       "1         2441          50  2012   0.454    3     1       0.0258   \n",
       "2         2624          57  2012   0.234    3     1       0.0323   \n",
       "3          731          58  2012   0.251   10     1       0.0363   \n",
       "4          272          54  2012   0.791    6     0       0.0302   \n",
       "\n",
       "   instrumentalness  liveness  valence  ...  genre_ska  genre_sleep  \\\n",
       "0          0.000000    0.1150    0.139  ...          0            0   \n",
       "1          0.000014    0.0974    0.515  ...          0            0   \n",
       "2          0.000050    0.0895    0.145  ...          0            0   \n",
       "3          0.000000    0.0797    0.508  ...          0            0   \n",
       "4          0.019300    0.1100    0.217  ...          0            0   \n",
       "\n",
       "   genre_songwriter  genre_soul  genre_spanish  genre_swedish  genre_tango  \\\n",
       "0                 0           0              0              0            0   \n",
       "1                 0           0              0              0            0   \n",
       "2                 0           0              0              0            0   \n",
       "3                 0           0              0              0            0   \n",
       "4                 0           0              0              0            0   \n",
       "\n",
       "   genre_techno  genre_trance  genre_trip-hop  \n",
       "0             0             0               0  \n",
       "1             0             0               0  \n",
       "2             0             0               0  \n",
       "3             0             0               0  \n",
       "4             0             0               0  \n",
       "\n",
       "[5 rows x 95 columns]"
      ]
     },
     "execution_count": 56,
     "metadata": {},
     "output_type": "execute_result"
    }
   ],
   "source": [
    "import pandas as pd\n",
    "# grnre for one hot encoding\n",
    "categorical_columns = ['genre']\n",
    "\n",
    "# Apply one-hot encoding\n",
    "df_encoded = pd.get_dummies(df_filtered, columns=categorical_columns)\n",
    "\n",
    "# Display the first few rows of the encoded DataFrame\n",
    "df_encoded.head()\n"
   ]
  },
  {
   "cell_type": "markdown",
   "metadata": {
    "id": "0N-fbv3LF6Le"
   },
   "source": [
    "#**Machine learning Models Implementaion**\n",
    "\n",
    "1. Classification and Regression\n",
    "\n"
   ]
  },
  {
   "cell_type": "markdown",
   "metadata": {
    "id": "5SRGnpFrppS0"
   },
   "source": [
    "**DROPING THE TARGETED COLUMN**"
   ]
  },
  {
   "cell_type": "markdown",
   "metadata": {
    "id": "ojKBIrMejxaw"
   },
   "source": [
    "## For Regression"
   ]
  },
  {
   "cell_type": "code",
   "execution_count": 57,
   "metadata": {
    "id": "Ai4tjIxZ60Xy"
   },
   "outputs": [],
   "source": [
    "#Drop the target column for regression\n",
    "X_reg=df_encoded.drop(columns=['popularity'])\n",
    "y_reg=df_encoded['popularity']"
   ]
  },
  {
   "cell_type": "code",
   "execution_count": 58,
   "metadata": {
    "colab": {
     "base_uri": "https://localhost:8080/"
    },
    "id": "kpQOIdH1c7fj",
    "outputId": "bd8a7547-6802-4528-eebe-9bea0e77d151"
   },
   "outputs": [
    {
     "name": "stdout",
     "output_type": "stream",
     "text": [
      "   popularity popularity_category\n",
      "0          68                High\n",
      "1          50            Moderate\n",
      "2          57                High\n",
      "3          58                High\n",
      "4          54            Moderate\n"
     ]
    }
   ],
   "source": [
    "# Create a custom function to map popularity to categories\n",
    "def map_popularity_to_category(popularity):\n",
    "    if popularity > 55:\n",
    "        return 'High'\n",
    "    elif 40 <= popularity <= 55:\n",
    "        return 'Moderate'\n",
    "    else:\n",
    "        return 'Low'\n",
    "\n",
    "# Apply the mapping function to create the 'popularity_category' column\n",
    "df_encoded['popularity_category'] = df_encoded['popularity'].apply(map_popularity_to_category)\n",
    "\n",
    "# Display the DataFrame with the new 'popularity_category' column\n",
    "print(df_encoded[['popularity', 'popularity_category']].head())\n"
   ]
  },
  {
   "cell_type": "code",
   "execution_count": 59,
   "metadata": {
    "colab": {
     "base_uri": "https://localhost:8080/",
     "height": 424
    },
    "id": "kcLagBY4deoD",
    "outputId": "5e978424-c231-4ef5-bc4b-f0a272358f24"
   },
   "outputs": [
    {
     "data": {
      "text/html": [
       "<div>\n",
       "<style scoped>\n",
       "    .dataframe tbody tr th:only-of-type {\n",
       "        vertical-align: middle;\n",
       "    }\n",
       "\n",
       "    .dataframe tbody tr th {\n",
       "        vertical-align: top;\n",
       "    }\n",
       "\n",
       "    .dataframe thead th {\n",
       "        text-align: right;\n",
       "    }\n",
       "</style>\n",
       "<table border=\"1\" class=\"dataframe\">\n",
       "  <thead>\n",
       "    <tr style=\"text-align: right;\">\n",
       "      <th></th>\n",
       "      <th>popularity</th>\n",
       "      <th>popularity_category</th>\n",
       "    </tr>\n",
       "  </thead>\n",
       "  <tbody>\n",
       "    <tr>\n",
       "      <th>0</th>\n",
       "      <td>68</td>\n",
       "      <td>High</td>\n",
       "    </tr>\n",
       "    <tr>\n",
       "      <th>1</th>\n",
       "      <td>50</td>\n",
       "      <td>Moderate</td>\n",
       "    </tr>\n",
       "    <tr>\n",
       "      <th>2</th>\n",
       "      <td>57</td>\n",
       "      <td>High</td>\n",
       "    </tr>\n",
       "    <tr>\n",
       "      <th>3</th>\n",
       "      <td>58</td>\n",
       "      <td>High</td>\n",
       "    </tr>\n",
       "    <tr>\n",
       "      <th>4</th>\n",
       "      <td>54</td>\n",
       "      <td>Moderate</td>\n",
       "    </tr>\n",
       "    <tr>\n",
       "      <th>...</th>\n",
       "      <td>...</td>\n",
       "      <td>...</td>\n",
       "    </tr>\n",
       "    <tr>\n",
       "      <th>1159759</th>\n",
       "      <td>4</td>\n",
       "      <td>Low</td>\n",
       "    </tr>\n",
       "    <tr>\n",
       "      <th>1159760</th>\n",
       "      <td>3</td>\n",
       "      <td>Low</td>\n",
       "    </tr>\n",
       "    <tr>\n",
       "      <th>1159761</th>\n",
       "      <td>2</td>\n",
       "      <td>Low</td>\n",
       "    </tr>\n",
       "    <tr>\n",
       "      <th>1159762</th>\n",
       "      <td>0</td>\n",
       "      <td>Low</td>\n",
       "    </tr>\n",
       "    <tr>\n",
       "      <th>1159763</th>\n",
       "      <td>3</td>\n",
       "      <td>Low</td>\n",
       "    </tr>\n",
       "  </tbody>\n",
       "</table>\n",
       "<p>1159764 rows × 2 columns</p>\n",
       "</div>"
      ],
      "text/plain": [
       "         popularity popularity_category\n",
       "0                68                High\n",
       "1                50            Moderate\n",
       "2                57                High\n",
       "3                58                High\n",
       "4                54            Moderate\n",
       "...             ...                 ...\n",
       "1159759           4                 Low\n",
       "1159760           3                 Low\n",
       "1159761           2                 Low\n",
       "1159762           0                 Low\n",
       "1159763           3                 Low\n",
       "\n",
       "[1159764 rows x 2 columns]"
      ]
     },
     "execution_count": 59,
     "metadata": {},
     "output_type": "execute_result"
    }
   ],
   "source": [
    "df_encoded[['popularity', 'popularity_category']]"
   ]
  },
  {
   "cell_type": "markdown",
   "metadata": {
    "id": "JJCCZjFnj0pT"
   },
   "source": [
    "### For Classification"
   ]
  },
  {
   "cell_type": "code",
   "execution_count": 60,
   "metadata": {
    "id": "S3mJTpzwj4ND"
   },
   "outputs": [],
   "source": [
    "#Drop the target column for regression\n",
    "X_cls=df_encoded.drop(columns=['popularity','popularity_category'])\n",
    "y_cls=df_encoded['popularity_category']"
   ]
  },
  {
   "cell_type": "markdown",
   "metadata": {
    "id": "SATVzyF1mGYU"
   },
   "source": [
    "**Sampling**"
   ]
  },
  {
   "cell_type": "code",
   "execution_count": 61,
   "metadata": {
    "id": "LJ9i8X66mGYV"
   },
   "outputs": [],
   "source": [
    "# Balancing the dataset\n",
    "from imblearn.over_sampling import RandomOverSampler\n",
    "oversample = RandomOverSampler()\n",
    "X_cls, y_cls = oversample.fit_resample(X_cls, y_cls)"
   ]
  },
  {
   "cell_type": "markdown",
   "metadata": {
    "id": "iP9Sa3cQkKGP"
   },
   "source": [
    "## Apply Classification Models"
   ]
  },
  {
   "cell_type": "markdown",
   "metadata": {
    "id": "a40CoGsdApAD"
   },
   "source": [
    "**DATA SPLITTNG**\n",
    "\n",
    "Split the data into two datas\n",
    "\n",
    "1.   Train data\n",
    "2.   Test data\n",
    "\n"
   ]
  },
  {
   "cell_type": "code",
   "execution_count": 62,
   "metadata": {
    "id": "ljmniU-IAjZF"
   },
   "outputs": [],
   "source": [
    "# Spliting the  the train and test data\n",
    "from sklearn.model_selection import train_test_split\n",
    "X_train, X_test, y_train, y_test = train_test_split(X_cls, y_cls, test_size=0.33, random_state=42)"
   ]
  },
  {
   "cell_type": "code",
   "execution_count": 63,
   "metadata": {
    "colab": {
     "base_uri": "https://localhost:8080/",
     "height": 461
    },
    "id": "o6AcdJGKlHM7",
    "outputId": "e6d6f4e1-6080-469d-b6a7-7f6b1628b625"
   },
   "outputs": [
    {
     "data": {
      "text/html": [
       "<div>\n",
       "<style scoped>\n",
       "    .dataframe tbody tr th:only-of-type {\n",
       "        vertical-align: middle;\n",
       "    }\n",
       "\n",
       "    .dataframe tbody tr th {\n",
       "        vertical-align: top;\n",
       "    }\n",
       "\n",
       "    .dataframe thead th {\n",
       "        text-align: right;\n",
       "    }\n",
       "</style>\n",
       "<table border=\"1\" class=\"dataframe\">\n",
       "  <thead>\n",
       "    <tr style=\"text-align: right;\">\n",
       "      <th></th>\n",
       "      <th>artist_name</th>\n",
       "      <th>year</th>\n",
       "      <th>energy</th>\n",
       "      <th>key</th>\n",
       "      <th>mode</th>\n",
       "      <th>speechiness</th>\n",
       "      <th>instrumentalness</th>\n",
       "      <th>liveness</th>\n",
       "      <th>valence</th>\n",
       "      <th>tempo</th>\n",
       "      <th>...</th>\n",
       "      <th>genre_ska</th>\n",
       "      <th>genre_sleep</th>\n",
       "      <th>genre_songwriter</th>\n",
       "      <th>genre_soul</th>\n",
       "      <th>genre_spanish</th>\n",
       "      <th>genre_swedish</th>\n",
       "      <th>genre_tango</th>\n",
       "      <th>genre_techno</th>\n",
       "      <th>genre_trance</th>\n",
       "      <th>genre_trip-hop</th>\n",
       "    </tr>\n",
       "  </thead>\n",
       "  <tbody>\n",
       "    <tr>\n",
       "      <th>2237006</th>\n",
       "      <td>2465</td>\n",
       "      <td>2020</td>\n",
       "      <td>0.465</td>\n",
       "      <td>4</td>\n",
       "      <td>0</td>\n",
       "      <td>0.0276</td>\n",
       "      <td>0.000000</td>\n",
       "      <td>0.1080</td>\n",
       "      <td>0.2910</td>\n",
       "      <td>92.929</td>\n",
       "      <td>...</td>\n",
       "      <td>0</td>\n",
       "      <td>0</td>\n",
       "      <td>0</td>\n",
       "      <td>0</td>\n",
       "      <td>0</td>\n",
       "      <td>0</td>\n",
       "      <td>0</td>\n",
       "      <td>0</td>\n",
       "      <td>0</td>\n",
       "      <td>0</td>\n",
       "    </tr>\n",
       "    <tr>\n",
       "      <th>1306144</th>\n",
       "      <td>3857</td>\n",
       "      <td>2022</td>\n",
       "      <td>0.570</td>\n",
       "      <td>0</td>\n",
       "      <td>0</td>\n",
       "      <td>0.1410</td>\n",
       "      <td>0.000000</td>\n",
       "      <td>0.0913</td>\n",
       "      <td>0.7600</td>\n",
       "      <td>136.048</td>\n",
       "      <td>...</td>\n",
       "      <td>0</td>\n",
       "      <td>0</td>\n",
       "      <td>0</td>\n",
       "      <td>0</td>\n",
       "      <td>0</td>\n",
       "      <td>0</td>\n",
       "      <td>0</td>\n",
       "      <td>0</td>\n",
       "      <td>0</td>\n",
       "      <td>0</td>\n",
       "    </tr>\n",
       "    <tr>\n",
       "      <th>1654440</th>\n",
       "      <td>3857</td>\n",
       "      <td>2022</td>\n",
       "      <td>0.763</td>\n",
       "      <td>0</td>\n",
       "      <td>1</td>\n",
       "      <td>0.2610</td>\n",
       "      <td>0.000003</td>\n",
       "      <td>0.3140</td>\n",
       "      <td>0.5250</td>\n",
       "      <td>129.994</td>\n",
       "      <td>...</td>\n",
       "      <td>0</td>\n",
       "      <td>0</td>\n",
       "      <td>0</td>\n",
       "      <td>0</td>\n",
       "      <td>0</td>\n",
       "      <td>0</td>\n",
       "      <td>0</td>\n",
       "      <td>0</td>\n",
       "      <td>0</td>\n",
       "      <td>0</td>\n",
       "    </tr>\n",
       "    <tr>\n",
       "      <th>2009121</th>\n",
       "      <td>3857</td>\n",
       "      <td>2011</td>\n",
       "      <td>0.241</td>\n",
       "      <td>10</td>\n",
       "      <td>1</td>\n",
       "      <td>0.0349</td>\n",
       "      <td>0.004130</td>\n",
       "      <td>0.1090</td>\n",
       "      <td>0.2030</td>\n",
       "      <td>122.115</td>\n",
       "      <td>...</td>\n",
       "      <td>0</td>\n",
       "      <td>0</td>\n",
       "      <td>0</td>\n",
       "      <td>0</td>\n",
       "      <td>0</td>\n",
       "      <td>0</td>\n",
       "      <td>0</td>\n",
       "      <td>0</td>\n",
       "      <td>0</td>\n",
       "      <td>0</td>\n",
       "    </tr>\n",
       "    <tr>\n",
       "      <th>2709395</th>\n",
       "      <td>3857</td>\n",
       "      <td>2021</td>\n",
       "      <td>0.724</td>\n",
       "      <td>0</td>\n",
       "      <td>0</td>\n",
       "      <td>0.0656</td>\n",
       "      <td>0.000069</td>\n",
       "      <td>0.1220</td>\n",
       "      <td>0.4880</td>\n",
       "      <td>120.226</td>\n",
       "      <td>...</td>\n",
       "      <td>0</td>\n",
       "      <td>0</td>\n",
       "      <td>0</td>\n",
       "      <td>0</td>\n",
       "      <td>0</td>\n",
       "      <td>0</td>\n",
       "      <td>0</td>\n",
       "      <td>0</td>\n",
       "      <td>0</td>\n",
       "      <td>0</td>\n",
       "    </tr>\n",
       "    <tr>\n",
       "      <th>...</th>\n",
       "      <td>...</td>\n",
       "      <td>...</td>\n",
       "      <td>...</td>\n",
       "      <td>...</td>\n",
       "      <td>...</td>\n",
       "      <td>...</td>\n",
       "      <td>...</td>\n",
       "      <td>...</td>\n",
       "      <td>...</td>\n",
       "      <td>...</td>\n",
       "      <td>...</td>\n",
       "      <td>...</td>\n",
       "      <td>...</td>\n",
       "      <td>...</td>\n",
       "      <td>...</td>\n",
       "      <td>...</td>\n",
       "      <td>...</td>\n",
       "      <td>...</td>\n",
       "      <td>...</td>\n",
       "      <td>...</td>\n",
       "      <td>...</td>\n",
       "    </tr>\n",
       "    <tr>\n",
       "      <th>1692743</th>\n",
       "      <td>3857</td>\n",
       "      <td>2015</td>\n",
       "      <td>0.301</td>\n",
       "      <td>0</td>\n",
       "      <td>0</td>\n",
       "      <td>0.0441</td>\n",
       "      <td>0.421000</td>\n",
       "      <td>0.0335</td>\n",
       "      <td>0.5540</td>\n",
       "      <td>140.106</td>\n",
       "      <td>...</td>\n",
       "      <td>0</td>\n",
       "      <td>0</td>\n",
       "      <td>0</td>\n",
       "      <td>0</td>\n",
       "      <td>0</td>\n",
       "      <td>0</td>\n",
       "      <td>0</td>\n",
       "      <td>0</td>\n",
       "      <td>0</td>\n",
       "      <td>0</td>\n",
       "    </tr>\n",
       "    <tr>\n",
       "      <th>2356330</th>\n",
       "      <td>709</td>\n",
       "      <td>2017</td>\n",
       "      <td>0.844</td>\n",
       "      <td>9</td>\n",
       "      <td>0</td>\n",
       "      <td>0.0566</td>\n",
       "      <td>0.000019</td>\n",
       "      <td>0.1190</td>\n",
       "      <td>0.6060</td>\n",
       "      <td>153.014</td>\n",
       "      <td>...</td>\n",
       "      <td>0</td>\n",
       "      <td>0</td>\n",
       "      <td>0</td>\n",
       "      <td>0</td>\n",
       "      <td>0</td>\n",
       "      <td>0</td>\n",
       "      <td>0</td>\n",
       "      <td>0</td>\n",
       "      <td>0</td>\n",
       "      <td>0</td>\n",
       "    </tr>\n",
       "    <tr>\n",
       "      <th>2229084</th>\n",
       "      <td>3857</td>\n",
       "      <td>2002</td>\n",
       "      <td>0.989</td>\n",
       "      <td>5</td>\n",
       "      <td>0</td>\n",
       "      <td>0.2470</td>\n",
       "      <td>0.028500</td>\n",
       "      <td>0.5700</td>\n",
       "      <td>0.0616</td>\n",
       "      <td>187.859</td>\n",
       "      <td>...</td>\n",
       "      <td>0</td>\n",
       "      <td>0</td>\n",
       "      <td>0</td>\n",
       "      <td>0</td>\n",
       "      <td>0</td>\n",
       "      <td>0</td>\n",
       "      <td>0</td>\n",
       "      <td>0</td>\n",
       "      <td>0</td>\n",
       "      <td>0</td>\n",
       "    </tr>\n",
       "    <tr>\n",
       "      <th>2768307</th>\n",
       "      <td>1775</td>\n",
       "      <td>2018</td>\n",
       "      <td>0.482</td>\n",
       "      <td>8</td>\n",
       "      <td>1</td>\n",
       "      <td>0.0247</td>\n",
       "      <td>0.000001</td>\n",
       "      <td>0.1080</td>\n",
       "      <td>0.2430</td>\n",
       "      <td>92.567</td>\n",
       "      <td>...</td>\n",
       "      <td>0</td>\n",
       "      <td>0</td>\n",
       "      <td>0</td>\n",
       "      <td>0</td>\n",
       "      <td>0</td>\n",
       "      <td>0</td>\n",
       "      <td>0</td>\n",
       "      <td>0</td>\n",
       "      <td>0</td>\n",
       "      <td>0</td>\n",
       "    </tr>\n",
       "    <tr>\n",
       "      <th>2219110</th>\n",
       "      <td>3857</td>\n",
       "      <td>2019</td>\n",
       "      <td>0.279</td>\n",
       "      <td>1</td>\n",
       "      <td>0</td>\n",
       "      <td>0.0382</td>\n",
       "      <td>0.000000</td>\n",
       "      <td>0.1060</td>\n",
       "      <td>0.4780</td>\n",
       "      <td>90.002</td>\n",
       "      <td>...</td>\n",
       "      <td>0</td>\n",
       "      <td>0</td>\n",
       "      <td>0</td>\n",
       "      <td>0</td>\n",
       "      <td>0</td>\n",
       "      <td>0</td>\n",
       "      <td>0</td>\n",
       "      <td>0</td>\n",
       "      <td>0</td>\n",
       "      <td>0</td>\n",
       "    </tr>\n",
       "  </tbody>\n",
       "</table>\n",
       "<p>2063039 rows × 94 columns</p>\n",
       "</div>"
      ],
      "text/plain": [
       "         artist_name  year  energy  key  mode  speechiness  instrumentalness  \\\n",
       "2237006         2465  2020   0.465    4     0       0.0276          0.000000   \n",
       "1306144         3857  2022   0.570    0     0       0.1410          0.000000   \n",
       "1654440         3857  2022   0.763    0     1       0.2610          0.000003   \n",
       "2009121         3857  2011   0.241   10     1       0.0349          0.004130   \n",
       "2709395         3857  2021   0.724    0     0       0.0656          0.000069   \n",
       "...              ...   ...     ...  ...   ...          ...               ...   \n",
       "1692743         3857  2015   0.301    0     0       0.0441          0.421000   \n",
       "2356330          709  2017   0.844    9     0       0.0566          0.000019   \n",
       "2229084         3857  2002   0.989    5     0       0.2470          0.028500   \n",
       "2768307         1775  2018   0.482    8     1       0.0247          0.000001   \n",
       "2219110         3857  2019   0.279    1     0       0.0382          0.000000   \n",
       "\n",
       "         liveness  valence    tempo  ...  genre_ska  genre_sleep  \\\n",
       "2237006    0.1080   0.2910   92.929  ...          0            0   \n",
       "1306144    0.0913   0.7600  136.048  ...          0            0   \n",
       "1654440    0.3140   0.5250  129.994  ...          0            0   \n",
       "2009121    0.1090   0.2030  122.115  ...          0            0   \n",
       "2709395    0.1220   0.4880  120.226  ...          0            0   \n",
       "...           ...      ...      ...  ...        ...          ...   \n",
       "1692743    0.0335   0.5540  140.106  ...          0            0   \n",
       "2356330    0.1190   0.6060  153.014  ...          0            0   \n",
       "2229084    0.5700   0.0616  187.859  ...          0            0   \n",
       "2768307    0.1080   0.2430   92.567  ...          0            0   \n",
       "2219110    0.1060   0.4780   90.002  ...          0            0   \n",
       "\n",
       "         genre_songwriter  genre_soul  genre_spanish  genre_swedish  \\\n",
       "2237006                 0           0              0              0   \n",
       "1306144                 0           0              0              0   \n",
       "1654440                 0           0              0              0   \n",
       "2009121                 0           0              0              0   \n",
       "2709395                 0           0              0              0   \n",
       "...                   ...         ...            ...            ...   \n",
       "1692743                 0           0              0              0   \n",
       "2356330                 0           0              0              0   \n",
       "2229084                 0           0              0              0   \n",
       "2768307                 0           0              0              0   \n",
       "2219110                 0           0              0              0   \n",
       "\n",
       "         genre_tango  genre_techno  genre_trance  genre_trip-hop  \n",
       "2237006            0             0             0               0  \n",
       "1306144            0             0             0               0  \n",
       "1654440            0             0             0               0  \n",
       "2009121            0             0             0               0  \n",
       "2709395            0             0             0               0  \n",
       "...              ...           ...           ...             ...  \n",
       "1692743            0             0             0               0  \n",
       "2356330            0             0             0               0  \n",
       "2229084            0             0             0               0  \n",
       "2768307            0             0             0               0  \n",
       "2219110            0             0             0               0  \n",
       "\n",
       "[2063039 rows x 94 columns]"
      ]
     },
     "execution_count": 63,
     "metadata": {},
     "output_type": "execute_result"
    }
   ],
   "source": [
    "X_train"
   ]
  },
  {
   "cell_type": "code",
   "execution_count": 64,
   "metadata": {
    "colab": {
     "base_uri": "https://localhost:8080/"
    },
    "id": "DXMEqz-klO7w",
    "outputId": "90a5eab6-1764-40a7-c3d9-3596b455a0fc"
   },
   "outputs": [
    {
     "data": {
      "text/plain": [
       "High        688114\n",
       "Low         687719\n",
       "Moderate    687206\n",
       "Name: popularity_category, dtype: int64"
      ]
     },
     "execution_count": 64,
     "metadata": {},
     "output_type": "execute_result"
    }
   ],
   "source": [
    "y_train.value_counts()"
   ]
  },
  {
   "cell_type": "markdown",
   "metadata": {
    "id": "m25B7ELa8Ja2"
   },
   "source": [
    "#**Mahine Learning Models**"
   ]
  },
  {
   "cell_type": "code",
   "execution_count": 65,
   "metadata": {
    "id": "sMqN6y3kJw4U"
   },
   "outputs": [],
   "source": [
    "#From Sk learns\n",
    "from sklearn.metrics import accuracy_score, precision_score, recall_score, f1_score, classification_report,confusion_matrix\n",
    "from sklearn.linear_model import LogisticRegression\n",
    "from sklearn.tree import DecisionTreeClassifier\n",
    "from sklearn.ensemble import RandomForestClassifier\n",
    "from imblearn.over_sampling import RandomOverSampler\n",
    "from imblearn.under_sampling import RandomUnderSampler"
   ]
  },
  {
   "cell_type": "markdown",
   "metadata": {
    "id": "Kq5w2PMhKbHO"
   },
   "source": [
    "**logistic regression**"
   ]
  },
  {
   "cell_type": "code",
   "execution_count": 66,
   "metadata": {
    "colab": {
     "base_uri": "https://localhost:8080/",
     "height": 951
    },
    "id": "aaQyyWhqKXGQ",
    "outputId": "5566adde-90e1-49c1-b4b9-316052c80dac"
   },
   "outputs": [
    {
     "name": "stderr",
     "output_type": "stream",
     "text": [
      "/Users/spoon/opt/anaconda3/lib/python3.9/site-packages/sklearn/linear_model/_logistic.py:814: ConvergenceWarning: lbfgs failed to converge (status=1):\n",
      "STOP: TOTAL NO. of ITERATIONS REACHED LIMIT.\n",
      "\n",
      "Increase the number of iterations (max_iter) or scale the data as shown in:\n",
      "    https://scikit-learn.org/stable/modules/preprocessing.html\n",
      "Please also refer to the documentation for alternative solver options:\n",
      "    https://scikit-learn.org/stable/modules/linear_model.html#logistic-regression\n",
      "  n_iter_i = _check_optimize_result(\n"
     ]
    },
    {
     "name": "stdout",
     "output_type": "stream",
     "text": [
      "Confusion Matrix: \n",
      " [[179599  74803  83872]\n",
      " [108787 166106  63776]\n",
      " [142897 102197  94088]]\n",
      "\n",
      "Accuracy : \n",
      " 43.281387624554064\n",
      "\n",
      " Report : \n",
      "               precision    recall  f1-score   support\n",
      "\n",
      "        High       0.42      0.53      0.47    338274\n",
      "         Low       0.48      0.49      0.49    338669\n",
      "    Moderate       0.39      0.28      0.32    339182\n",
      "\n",
      "    accuracy                           0.43   1016125\n",
      "   macro avg       0.43      0.43      0.43   1016125\n",
      "weighted avg       0.43      0.43      0.43   1016125\n",
      "\n",
      "\n",
      " The  LR Heatmap of Confusion matrix is\n",
      "\n"
     ]
    },
    {
     "data": {
      "image/png": "[encoded data removed]",
      "text/plain": [
       "<Figure size 432x288 with 2 Axes>"
      ]
     },
     "metadata": {
      "needs_background": "light"
     },
     "output_type": "display_data"
    }
   ],
   "source": [
    "#logistic regression model\n",
    "lr = LogisticRegression()\n",
    "lr.fit(X_train, y_train)\n",
    "y_pred_lr = lr.predict(X_test)\n",
    "\n",
    "print(\"Confusion Matrix: \\n\",confusion_matrix(y_test, y_pred_lr))\n",
    "print (\"\\nAccuracy : \\n\", accuracy_score(y_test, y_pred_lr)*100)\n",
    "print(\"\\n Report : \\n\",classification_report(y_test, y_pred_lr))\n",
    "\n",
    "print('\\n The  LR Heatmap of Confusion matrix is\\n')\n",
    "sns.heatmap(confusion_matrix(y_test, y_pred_lr),annot=True, fmt='g',cmap='viridis')\n",
    "plt.show()\n"
   ]
  },
  {
   "cell_type": "markdown",
   "metadata": {
    "id": "yD4BEv26KqBJ"
   },
   "source": [
    "**DECISION TREE CLASSIFIER (DTC)**"
   ]
  },
  {
   "cell_type": "code",
   "execution_count": 67,
   "metadata": {
    "colab": {
     "base_uri": "https://localhost:8080/",
     "height": 812
    },
    "id": "8VRQtW8vKqBK",
    "outputId": "9708cb06-92c4-42fb-fdce-b51f10c9f6bc"
   },
   "outputs": [
    {
     "name": "stdout",
     "output_type": "stream",
     "text": [
      "Confusion Matrix: \n",
      " [[338274   3850    286]\n",
      " [     0 307751    194]\n",
      " [     0  27068 338702]]\n",
      "\n",
      " Accuracy : \n",
      " 96.91002583343584\n",
      "\n",
      " Report : \n",
      "               precision    recall  f1-score   support\n",
      "\n",
      "        High       1.00      0.99      0.99    342410\n",
      "         Low       0.91      1.00      0.95    307945\n",
      "    Moderate       1.00      0.93      0.96    365770\n",
      "\n",
      "    accuracy                           0.97   1016125\n",
      "   macro avg       0.97      0.97      0.97   1016125\n",
      "weighted avg       0.97      0.97      0.97   1016125\n",
      "\n",
      "\n",
      " The DTC heat map of Confusion matrix is  \n",
      "\n"
     ]
    },
    {
     "data": {
      "image/png": "[encoded data removed]",
      "text/plain": [
       "<Figure size 432x288 with 2 Axes>"
      ]
     },
     "metadata": {
      "needs_background": "light"
     },
     "output_type": "display_data"
    }
   ],
   "source": [
    "dtc = DecisionTreeClassifier()\n",
    "dtc.fit(X_train, y_train)\n",
    "y_pred_dtc = dtc.predict(X_test)\n",
    "print(\"Confusion Matrix: \\n\",confusion_matrix(y_pred_dtc, y_test))\n",
    "print (\"\\n Accuracy : \\n\", accuracy_score(y_pred_dtc, y_test)*100)\n",
    "print(\"\\n Report : \\n\",classification_report(y_pred_dtc, y_test))\n",
    "print('\\n The DTC heat map of Confusion matrix is  \\n')\n",
    "sns.heatmap(confusion_matrix(y_test, y_pred_dtc),annot=True, fmt='g',cmap='viridis')\n",
    "\n",
    "plt.show()\n"
   ]
  },
  {
   "cell_type": "markdown",
   "metadata": {
    "id": "rzM90KRLAagU"
   },
   "source": [
    "**RANDOM FOREST CLASSIFIER (RFC)**"
   ]
  },
  {
   "cell_type": "code",
   "execution_count": 68,
   "metadata": {
    "colab": {
     "base_uri": "https://localhost:8080/",
     "height": 812
    },
    "id": "IWtzU9KSAOOW",
    "outputId": "dba35c4c-e04d-4ec5-f8d0-6f1e715d0fba",
    "scrolled": false
   },
   "outputs": [
    {
     "name": "stdout",
     "output_type": "stream",
     "text": [
      "Confusion Matrix: \n",
      " [[338274      0      0]\n",
      " [   338 325542  12789]\n",
      " [   234    192 338756]]\n",
      "\n",
      " Accuracy : \n",
      " 98.66620740558494\n",
      "\n",
      " Report : \n",
      "               precision    recall  f1-score   support\n",
      "\n",
      "        High       1.00      1.00      1.00    338274\n",
      "         Low       1.00      0.96      0.98    338669\n",
      "    Moderate       0.96      1.00      0.98    339182\n",
      "\n",
      "    accuracy                           0.99   1016125\n",
      "   macro avg       0.99      0.99      0.99   1016125\n",
      "weighted avg       0.99      0.99      0.99   1016125\n",
      "\n",
      "\n",
      " The  RFc Heatmap of Confusion matrix is \n",
      "\n"
     ]
    },
    {
     "data": {
      "image/png": "[encoded data removed]",
      "text/plain": [
       "<Figure size 432x288 with 2 Axes>"
      ]
     },
     "metadata": {
      "needs_background": "light"
     },
     "output_type": "display_data"
    }
   ],
   "source": [
    "#RFC\n",
    "rfc = RandomForestClassifier()\n",
    "rfc.fit(X_train, y_train)\n",
    "y_pred_rfc = rfc.predict(X_test)\n",
    "print(\"Confusion Matrix: \\n\",confusion_matrix(y_test, y_pred_rfc))\n",
    "print (\"\\n Accuracy : \\n\", accuracy_score(y_test, y_pred_rfc)*100)\n",
    "print(\"\\n Report : \\n\",classification_report(y_test, y_pred_rfc))\n",
    "print('\\n The  RFc Heatmap of Confusion matrix is \\n')\n",
    "sns.heatmap(confusion_matrix(y_test, y_pred_dtc),annot=True, fmt='g',cmap='viridis')\n",
    "plt.show()"
   ]
  },
  {
   "cell_type": "code",
   "execution_count": null,
   "metadata": {},
   "outputs": [],
   "source": [
    "import matplotlib.pyplot as plt\n",
    "\n",
    "# Assuming y_test contains the actual popularity values, and y_pred_rfc contains the predicted popularity values\n",
    "\n",
    "# Plotting the actual vs. predicted popularity\n",
    "plt.figure(figsize=(10, 6))\n",
    "plt.scatter(y_test, y_pred_rfc, alpha=0.5)\n",
    "plt.title('Actual vs. Predicted Popularity')\n",
    "plt.xlabel('Actual Popularity')\n",
    "plt.ylabel('Predicted Popularity')\n",
    "plt.grid(True)\n",
    "plt.show()\n"
   ]
  },
  {
   "cell_type": "markdown",
   "metadata": {
    "id": "LsyZ1Inp1Tyy"
   },
   "source": [
    "## Regression Modeling"
   ]
  },
  {
   "cell_type": "code",
   "execution_count": 69,
   "metadata": {
    "id": "4hXwa4J3oHoc"
   },
   "outputs": [],
   "source": [
    "#Drop the target column for regression\n",
    "X_reg=df_encoded.drop(columns=['popularity','popularity_category'])\n",
    "y_reg=df_encoded['popularity'].astype(float)"
   ]
  },
  {
   "cell_type": "code",
   "execution_count": 70,
   "metadata": {
    "id": "Q-1tfp8i207P"
   },
   "outputs": [],
   "source": [
    "# Spliting the  the train and test data\n",
    "from sklearn.model_selection import train_test_split\n",
    "X_train, X_test, y_train, y_test = train_test_split(X_reg, y_reg, test_size=0.33, random_state=42)"
   ]
  },
  {
   "cell_type": "code",
   "execution_count": 71,
   "metadata": {
    "colab": {
     "base_uri": "https://localhost:8080/"
    },
    "id": "ov1cApPs6czi",
    "outputId": "4c391f1b-4bf0-4ccf-eb6f-56ef51eeffbe"
   },
   "outputs": [
    {
     "name": "stdout",
     "output_type": "stream",
     "text": [
      "Mean Squared Error: 114.19907248172926\n",
      "Mean Squared Error (MSE): 114.20\n",
      "Mean Absolute Error (MAE): 8.19\n",
      "Root Mean Squared Error (RMSE): 10.69\n",
      "R-squared (R2) Score: 0.55\n"
     ]
    }
   ],
   "source": [
    "from sklearn.model_selection import train_test_split\n",
    "from sklearn.linear_model import LinearRegression\n",
    "from sklearn.metrics import mean_squared_error,mean_absolute_error, mean_squared_error, r2_score\n",
    "\n",
    "# Initialize the Linear Regression model\n",
    "regressor = LinearRegression()\n",
    "\n",
    "# Fit the model to the training data\n",
    "regressor.fit(X_train, y_train)\n",
    "\n",
    "# Make predictions on the test data\n",
    "y_pred = regressor.predict(X_test)\n",
    "\n",
    "# Evaluate the model (for regression, typically using Mean Squared Error)\n",
    "mse = mean_squared_error(y_test, y_pred)\n",
    "print(f\"Mean Squared Error: {mse}\")\n",
    "# Calculate predictions on the test data\n",
    "y_pred = regressor.predict(X_test)\n",
    "\n",
    "# Calculate additional regression metrics\n",
    "mae = mean_absolute_error(y_test, y_pred)\n",
    "rmse = np.sqrt(mean_squared_error(y_test, y_pred))\n",
    "r2 = r2_score(y_test, y_pred)\n",
    "\n",
    "# Print the metrics\n",
    "print(f\"Mean Squared Error (MSE): {mse:.2f}\")\n",
    "print(f\"Mean Absolute Error (MAE): {mae:.2f}\")\n",
    "print(f\"Root Mean Squared Error (RMSE): {rmse:.2f}\")\n",
    "print(f\"R-squared (R2) Score: {r2:.2f}\")\n"
   ]
  },
  {
   "cell_type": "code",
   "execution_count": 72,
   "metadata": {
    "id": "ZvDGJKvu7Dhp"
   },
   "outputs": [],
   "source": [
    "## random forest regression"
   ]
  },
  {
   "cell_type": "code",
   "execution_count": 73,
   "metadata": {
    "id": "goTWLDve9wkQ",
    "scrolled": false
   },
   "outputs": [
    {
     "name": "stdout",
     "output_type": "stream",
     "text": [
      "Mean Squared Error: 76.63935130884003\n",
      "Mean Squared Error (MSE): 76.64\n",
      "Mean Absolute Error (MAE): 6.48\n",
      "Root Mean Squared Error (RMSE): 8.75\n",
      "R-squared (R2) Score: 0.70\n"
     ]
    }
   ],
   "source": [
    "from sklearn.model_selection import train_test_split\n",
    "from sklearn.linear_model import LinearRegression\n",
    "from sklearn.metrics import mean_squared_error,mean_absolute_error, mean_squared_error, r2_score\n",
    "\n",
    "# Initialize the Linear Regression model\n",
    "from sklearn.ensemble import RandomForestRegressor\n",
    "\n",
    "\n",
    "# Initialize the Random Forest Regressor model\n",
    "regressor = RandomForestRegressor(random_state=42)\n",
    "\n",
    "# Fit the model to the training data\n",
    "regressor.fit(X_train, y_train)\n",
    "\n",
    "# Make predictions on the test data\n",
    "y_pred = regressor.predict(X_test)\n",
    "\n",
    "# Evaluate the model (for regression, typically using Mean Squared Error)\n",
    "mse = mean_squared_error(y_test, y_pred)\n",
    "print(f\"Mean Squared Error: {mse}\")\n",
    "# Calculate predictions on the test data\n",
    "y_pred = regressor.predict(X_test)\n",
    "\n",
    "# Calculate additional regression metrics\n",
    "mae = mean_absolute_error(y_test, y_pred)\n",
    "rmse = np.sqrt(mean_squared_error(y_test, y_pred))\n",
    "r2 = r2_score(y_test, y_pred)\n",
    "\n",
    "# Print the metrics\n",
    "print(f\"Mean Squared Error (MSE): {mse:.2f}\")\n",
    "print(f\"Mean Absolute Error (MAE): {mae:.2f}\")\n",
    "print(f\"Root Mean Squared Error (RMSE): {rmse:.2f}\")\n",
    "print(f\"R-squared (R2) Score: {r2:.2f}\")\n"
   ]
  },
  {
   "cell_type": "code",
   "execution_count": 76,
   "metadata": {},
   "outputs": [
    {
     "data": {
      "image/png": "[encoded data removed]",
      "text/plain": [
       "<Figure size 720x504 with 1 Axes>"
      ]
     },
     "metadata": {
      "needs_background": "light"
     },
     "output_type": "display_data"
    }
   ],
   "source": [
    "\n",
    "from numpy.polynomial.polynomial import Polynomial\n",
    "\n",
    "\n",
    "\n",
    "# Visualizing Predicted vs. Actual Popularity\n",
    "plt.figure(figsize=(10, 7))\n",
    "plt.scatter(y_test, y_pred, color='blue', label='Songs', alpha=0.5)\n",
    "\n",
    "# Fit a polynomial of degree 1 (i.e., a line) to the data\n",
    "p = Polynomial.fit(y_test, y_pred, 1)\n",
    "\n",
    "# Plot the regression line\n",
    "x = np.linspace(min(y_test), max(y_test), 100)\n",
    "y = p(x)\n",
    "plt.plot(x, y, color='green', label='Regression Line')\n",
    "\n",
    "# Plot the line of perfect prediction\n",
    "plt.plot([min(y_test), max(y_test)], \n",
    "         [min(y_test), max(y_test)], \n",
    "         color='red', linestyle='--', label='Line of Perfect Prediction')  # Diagonal line for perfect predictions\n",
    "\n",
    "# Labeling the plot\n",
    "plt.title(\"Actual vs. Predicted Popularity with Regression Line\")\n",
    "plt.xlabel(\"Actual Popularity\")\n",
    "plt.ylabel(\"Predicted Popularity\")\n",
    "plt.legend()\n",
    "plt.grid(True)\n",
    "plt.show()\n"
   ]
  }
 ],
 "metadata": {
  "colab": {
   "provenance": []
  },
  "kernelspec": {
   "display_name": "Python 3 (ipykernel)",
   "language": "python",
   "name": "python3"
  },
  "language_info": {
   "codemirror_mode": {
    "name": "ipython",
    "version": 3
   },
   "file_extension": ".py",
   "mimetype": "text/x-python",
   "name": "python",
   "nbconvert_exporter": "python",
   "pygments_lexer": "ipython3",
   "version": "3.9.12"
  }
 },
 "nbformat": 4,
 "nbformat_minor": 1
}
